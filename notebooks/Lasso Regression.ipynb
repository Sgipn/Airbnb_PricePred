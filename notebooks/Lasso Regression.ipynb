{
 "cells": [
  {
   "cell_type": "code",
   "execution_count": 1,
   "id": "8c4e7f0e",
   "metadata": {},
   "outputs": [],
   "source": [
    "import numpy as np\n",
    "import pandas as pd\n",
    "from matplotlib import pyplot as plt\n",
    "from mpl_toolkits.mplot3d import Axes3D\n",
    "from mpl_toolkits import mplot3d\n",
    "from sklearn.model_selection import KFold\n",
    "from sklearn import linear_model\n",
    "import math\n",
    "\n",
    "%matplotlib inline\n",
    "plt.style.use('seaborn-white')"
   ]
  },
  {
   "cell_type": "markdown",
   "id": "5ff69bc4",
   "metadata": {},
   "source": [
    "## Lasso Overview\n",
    "\n",
    "Least Absolute Shrinkage and Selection Operator\n",
    "\n",
    "Objective Function:\n",
    "\n",
    "$$ \\begin{eqnarray}\n",
    "\\underset{\\beta}{\\mathrm{argmin}} RSS_{lasso} (\\beta) &=& \\frac{1}{n} \\underset{\\beta}{\\mathrm{argmin}} (RSS_{OLS} (\\beta) + \\lambda |\\beta|_{1} )\\\\\n",
    "&=& \\underset{\\beta}{\\mathrm{argmin}} \\frac{1}{n} ||y - (\\beta)X)||^{2}_{2} + \\lambda |\\beta|_{1} \\\\ \n",
    "&=& f(\\beta) + g(\\beta)\n",
    "\\end{eqnarray}$$\n",
    "\n",
    "where $f(\\beta)$ is the $RSS_{OLS}$ term, and $g(\\beta)$ is the regularization factor for Lasso.\n",
    "\n",
    "After applying some subdifferentials and subderivatives, we find that the Objective function becomes: \n",
    "\n",
    "$$ \\begin{eqnarray}\n",
    "\\frac{\\partial d}{\\partial d \\beta_{j}} RSS_{Lasso} + \\partial \\beta_{j} \\lambda \\sum^{n}_{j=0} |\\beta_{j}|\n",
    "&=& - \\sum^{m}_{i=0} x_{j}^{i} (y^{i} - \\sum^{n}_{k \\ne j} \\theta_{k} x_{k}^{i} ) + \\theta_{j} \\sum^{m}_{i=1} (x_{j}^{i})^{2} + \\partial_{\\beta_{j}} \\lambda|\\beta_{j}| \\\\ \n",
    "&=& - \\rho_{j} +  \\beta_{j} z + \\partial_{\\beta_{j}} \\lambda|\\beta_{j}| \\\\\n",
    "\\end{eqnarray}$$\n",
    "\n",
    "Proposed strategy:\n",
    "- Solve linear system via soft-thresholding with coordinate descent for given values of tuning parameter lambda.\n",
    "- Tuning lambda via 4-fold Cross validation. k value with lowest mean MSE will be chosen. "
   ]
  },
  {
   "cell_type": "markdown",
   "id": "4440872f",
   "metadata": {},
   "source": [
    "### Lasso from scratch begins here: \n",
    "\n",
    "1. The setup: design matrix and response variable (price).\n",
    "2. Two functions: soft_thresholding and coordinate_descent_lasso are created. \n",
    "    - soft_thresholding: returns value of $\\beta^{(LASSO)}_{j}$  based on values of the OLS solution $\\hat{\\beta_{j}^{(OLS)}}$. The process involves finding the first derivative of the LASSO objective function- in whihc the OLS solution is factorized into the product of normalization constant $z_{j}$ and $\\rho$. The LASSO solution then becomes a piecewise solution based on the relative value of $\\rho$ and $\\lambda$: $\\rho > lambda$, $\\rho < -\\lambda$, $-\\lambda \\le \\rho \\le \\lambda$. soft_thresholding returns these piecewise solutions based on $\\rho$ and $\\lambda$ values.  "
   ]
  },
  {
   "cell_type": "markdown",
   "id": "9c8a3498",
   "metadata": {},
   "source": [
    "### Importing data and defining functions (soft_threshold, coordinate_descent_lasso, lambda_tune)"
   ]
  },
  {
   "cell_type": "code",
   "execution_count": 2,
   "id": "04c58da8",
   "metadata": {},
   "outputs": [],
   "source": [
    "# returns piecewise soft_thresholding solution. rho is based on the coordinate-wise OLS solution\n",
    "\n",
    "def soft_threshold(rho,lamda):\n",
    "    '''Soft threshold function used for normalized data and lasso regression'''\n",
    "    if rho < (-1 * lamda):\n",
    "        return (rho + lamda)\n",
    "    elif rho >  lamda:\n",
    "        return (rho - lamda)\n",
    "    else: \n",
    "        return 0"
   ]
  },
  {
   "cell_type": "code",
   "execution_count": 4,
   "id": "4018f128",
   "metadata": {},
   "outputs": [],
   "source": [
    "# returns the LASSO solution using coordinate descent \n",
    "\n",
    "def coordinate_descent_lasso(theta,X,y,lamda, num_iters=100):\n",
    "    '''Coordinate gradient descent for lasso regression - for normalized data. \n",
    "    The intercept parameter allows to specify whether or not we regularize theta_0'''\n",
    "    \n",
    "    m,n = X_train.shape\n",
    "    norm = np.linalg.norm(X_train,axis = 0)\n",
    "    for i in range(n):\n",
    "        if norm[i] != 0:\n",
    "            X_train[:,i] = (X_train[:,i] - np.mean(X_train[:,i])) / np.std(X_train[:,i])\n",
    "\n",
    "    #Looping until max number of iterations\n",
    "    for i in range(100): \n",
    "\n",
    "        #Looping through each coordinate\n",
    "        for j in range(n):\n",
    "\n",
    "            #Vectorized implementation\n",
    "            X_j = X_train[:,j].reshape(-1,1)\n",
    "            y_pred = X_train @ theta\n",
    "            y_pred = y_pred.reshape(-1,1)\n",
    "            rho = X_j.T @ (y_train - y_pred  + theta[j]*X_j)\n",
    "            rho = float(rho)\n",
    "\n",
    "            #Checking intercept parameter\n",
    "\n",
    "            theta[j] =  soft_threshold(rho, lamda) \n",
    "            \n",
    "    return theta.flatten()"
   ]
  },
  {
   "cell_type": "code",
   "execution_count": 5,
   "id": "1a2384b3",
   "metadata": {},
   "outputs": [],
   "source": [
    "# Tunes lambda by 4-fold cross validation. Uses lambdas from 0.1 to 10 in increments of 0.1. \n",
    "\n",
    "def lambda_tune(X_train,y_train):\n",
    "    \n",
    "    all_mse = list() # 100 total entries (lambda), each entry has 4 entries (4-fold)\n",
    "    lamda = np.arange(0.1,10,0.1) #Range of lambda values\n",
    "    \n",
    "    kf = KFold(n_splits = 3, random_state = True, shuffle = True)\n",
    "\n",
    "    for l in lamda:                                             # Iterate through all lambda (200)\n",
    "        mse_vals = list()\n",
    "        \n",
    "        for train_index, test_index in kf.split(X_train):       # Iterate through each of 10 folds for each lamda \n",
    "            temp_X_train = X_train[train_index]\n",
    "            temp_y_train = y_train[train_index]\n",
    "            temp_X_test = X_train[test_index]\n",
    "            temp_y_test = y_train[test_index]\n",
    "            \n",
    "            n,p = temp_X_train.shape\n",
    "            initial_theta = np.ones((p,1))\n",
    "            MSE = 0\n",
    "\n",
    "            theta = coordinate_descent_lasso(initial_theta,temp_X_train,temp_y_train,lamda = l, num_iters=100) # fit lasso model\n",
    "            y_pred = temp_X_test @ theta                         # Predicted response values based on beta coefficients   \n",
    "            \n",
    "            for i in range(len(test_index)):\n",
    "                MSE += (temp_y_test[i][0] - y_pred[i])**2\n",
    "            MSE = MSE/n                                         # MSE of each of the 4 lasso models fitted to a given lambda \n",
    "            mse_vals.append(MSE)\n",
    "        all_mse.append(mse_vals)\n",
    "    return all_mse,lamda"
   ]
  },
  {
   "cell_type": "code",
   "execution_count": 6,
   "id": "ea7f4614",
   "metadata": {},
   "outputs": [],
   "source": [
    "# Import dataframe\n",
    "\n",
    "#Loading in Data\n",
    "df = pd.read_csv(\"../data/listings.csv\")\n",
    "df.drop(df.columns[0], axis=1, inplace=True)"
   ]
  },
  {
   "cell_type": "code",
   "execution_count": 8,
   "id": "e87db038",
   "metadata": {},
   "outputs": [],
   "source": [
    "# 80:20 split of our data \n",
    "\n",
    "from sklearn.model_selection import train_test_split\n",
    "Y = df[\"price\"]\n",
    "X = df.drop(\"price\", axis=1)\n",
    "X_train, X_test, y_train, y_test = train_test_split(X, Y, test_size=0.3, random_state=0)\n",
    "X_train,y_train,X_test,y_test = X_train.to_numpy(),y_train.to_numpy(),X_test.to_numpy(),y_test.to_numpy()\n",
    "y_train = y_train.reshape(-1,1)"
   ]
  },
  {
   "cell_type": "code",
   "execution_count": 9,
   "id": "9ab5e4b2",
   "metadata": {},
   "outputs": [],
   "source": [
    "# computes R^2 of our trained model.\n",
    "\n",
    "def r2score(y_pred, y):\n",
    "    rss = np.sum((y_pred - y) ** 2)\n",
    "    tss = np.sum((y - y.mean()) ** 2)\n",
    "\n",
    "    r2 = 1 - (rss / tss)\n",
    "    return r2"
   ]
  },
  {
   "cell_type": "markdown",
   "id": "1d089b46",
   "metadata": {},
   "source": [
    "### Fitting Lasso: (No intercept)"
   ]
  },
  {
   "cell_type": "markdown",
   "id": "9d16fc32",
   "metadata": {},
   "source": [
    "### Tuning Lambda\n",
    "We conduct 10-fold cross validation:\n",
    "\n",
    "1. Split training set into 10 partitions. (for each iteration: 9 partitions are used for training, 1 for testing) \n",
    "2. 10 lasso models are trained for 300 lambda values.\n",
    "3. For each lambda value, find the mean MAE of the 10 lasso models. \n",
    "3. Select lambda = k that has lowest mean MAE."
   ]
  },
  {
   "cell_type": "code",
   "execution_count": 40,
   "id": "275c64fa",
   "metadata": {},
   "outputs": [],
   "source": [
    "# Returns a two numpy arrays of each lambda value and the mean MSE associated with it.\n",
    "all_mse, lamda = lambda_tune(X_train,y_train) # lambda = 0.1 was the optimal lambda value."
   ]
  },
  {
   "cell_type": "code",
   "execution_count": 105,
   "id": "34ef54b6",
   "metadata": {},
   "outputs": [
    {
     "name": "stderr",
     "output_type": "stream",
     "text": [
      "<ipython-input-4-45a73418d0c9>:21: RuntimeWarning: overflow encountered in matmul\n",
      "  y_pred = X_train @ theta\n",
      "<ipython-input-4-45a73418d0c9>:21: RuntimeWarning: invalid value encountered in matmul\n",
      "  y_pred = X_train @ theta\n",
      "<ipython-input-4-45a73418d0c9>:23: RuntimeWarning: invalid value encountered in matmul\n",
      "  rho = X_j.T @ (y_train - y_pred  + theta[j]*X_j)\n",
      "<ipython-input-4-45a73418d0c9>:23: RuntimeWarning: overflow encountered in multiply\n",
      "  rho = X_j.T @ (y_train - y_pred  + theta[j]*X_j)\n",
      "<ipython-input-4-45a73418d0c9>:23: RuntimeWarning: invalid value encountered in add\n",
      "  rho = X_j.T @ (y_train - y_pred  + theta[j]*X_j)\n",
      "<ipython-input-4-45a73418d0c9>:23: RuntimeWarning: overflow encountered in matmul\n",
      "  rho = X_j.T @ (y_train - y_pred  + theta[j]*X_j)\n"
     ]
    },
    {
     "data": {
      "text/plain": [
       "78.14610160000029"
      ]
     },
     "execution_count": 105,
     "metadata": {},
     "output_type": "execute_result"
    }
   ],
   "source": [
    "# Fitting model on tuned lambda of 0.1\n",
    "\n",
    "initial_theta = np.ones(231)\n",
    "# Fitting Lasso on tuned lambda = 0.1241\n",
    "import timeit\n",
    "timestart = timeit.default_timer()           # start timer\n",
    "theta = coordinate_descent_lasso(initial_theta,X_train,y_train,lamda = 0.1, num_iters=100)\n",
    "timeend = timeit.default_timer()             # end timer\n",
    "time_elapsed = (timeend - timestart) # calculate elapsed time\n",
    "\n",
    "time_elapsed"
   ]
  },
  {
   "cell_type": "code",
   "execution_count": 107,
   "id": "f7a026e5",
   "metadata": {},
   "outputs": [
    {
     "name": "stderr",
     "output_type": "stream",
     "text": [
      "<ipython-input-107-d99a6dbc3aac>:8: RuntimeWarning: overflow encountered in square\n",
      "  SSE += (y_test[i] - y_pred[i])**2\n"
     ]
    }
   ],
   "source": [
    "# run\n",
    "theta = theta.reshape(-1,1)\n",
    "\n",
    "# Computing MSE of our fitted LASSO model\n",
    "y_pred = X_test@theta\n",
    "SSE = 0\n",
    "for i in range(11652):\n",
    "    SSE += (y_test[i] - y_pred[i])**2\n",
    "MSE = SSE/11652\n",
    "RMSE = math.sqrt(MSE)"
   ]
  },
  {
   "cell_type": "code",
   "execution_count": 109,
   "id": "5a65580b",
   "metadata": {},
   "outputs": [
    {
     "name": "stdout",
     "output_type": "stream",
     "text": [
      "[inf]\n",
      "inf\n"
     ]
    }
   ],
   "source": [
    "print(MSE)\n",
    "print(RMSE)"
   ]
  },
  {
   "cell_type": "markdown",
   "id": "7ddb070e",
   "metadata": {},
   "source": [
    "### Implementation using sklearn (for comparison)"
   ]
  },
  {
   "cell_type": "code",
   "execution_count": 41,
   "id": "bb613152",
   "metadata": {},
   "outputs": [],
   "source": [
    "from sklearn import linear_model"
   ]
  },
  {
   "cell_type": "code",
   "execution_count": 42,
   "id": "6677f1b6",
   "metadata": {},
   "outputs": [
    {
     "name": "stderr",
     "output_type": "stream",
     "text": [
      "C:\\Users\\kxu97\\anaconda3\\lib\\site-packages\\sklearn\\linear_model\\_coordinate_descent.py:647: ConvergenceWarning: Objective did not converge. You might want to increase the number of iterations, check the scale of the features or consider increasing regularisation. Duality gap: 1.942e+07, tolerance: 1.629e+05\n",
      "  model = cd_fast.enet_coordinate_descent(\n"
     ]
    }
   ],
   "source": [
    "# Initialize variables\n",
    "m,n = X_train.shape\n",
    "theta_list_sk = list()\n",
    "lamda = np.arange(0.01,5,0.01) #Range of lambda values from 0.01 to 5 in increment: 0.01\n",
    "\n",
    "# Run lasso regression for each lambda\n",
    "for l in lamda:\n",
    "    clf = linear_model.Lasso(alpha = l, fit_intercept = False)\n",
    "    clf.fit(X_train,y_train)\n",
    "    theta_list_sk.append(clf.coef_)\n",
    "\n",
    "#Stack into numpy array\n",
    "theta_lasso_sk = np.stack(theta_list_sk).T"
   ]
  },
  {
   "cell_type": "code",
   "execution_count": 51,
   "id": "883c1031",
   "metadata": {},
   "outputs": [
    {
     "data": {
      "text/plain": [
       "0.1240639159058832"
      ]
     },
     "execution_count": 51,
     "metadata": {},
     "output_type": "execute_result"
    }
   ],
   "source": [
    "# 4-fold cross validation\n",
    "\n",
    "all_mae_sk, all_mse_sk, lamda = lambda_tune_SK(X_train,y_train,4)\n",
    "allmeans = list()\n",
    "for i in range(300):\n",
    "    allmeans.append(np.mean(all_mae_sk[i]))\n",
    "\n",
    "min_index = allmeans.index(min(allmeans))\n",
    "lamda[min_index] # 0.1240639159058832"
   ]
  },
  {
   "cell_type": "code",
   "execution_count": 290,
   "id": "0187c8f3",
   "metadata": {},
   "outputs": [
    {
     "name": "stderr",
     "output_type": "stream",
     "text": [
      "No handles with labels found to put in legend.\n"
     ]
    },
    {
     "data": {
      "text/plain": [
       "(0.0687528918396024, 261.1497606350303, 2255.3286925025554, 51158.17394579791)"
      ]
     },
     "execution_count": 290,
     "metadata": {},
     "output_type": "execute_result"
    },
    {
     "data": {
      "image/png": "[encoded data removed]",
      "text/plain": [
       "<Figure size 864x576 with 1 Axes>"
      ]
     },
     "metadata": {},
     "output_type": "display_data"
    }
   ],
   "source": [
    "# Plotting MSE against lamda (sk-lasso model)\n",
    "\n",
    "n = 300\n",
    "plt.figure(figsize = (12,8))\n",
    "\n",
    "for i in range(140):\n",
    "    for j in range(10):\n",
    "        plt.scatter(lamda[i], all_mse_sk[i][j])\n",
    "\n",
    "plt.xscale('log')\n",
    "plt.xlabel('Log($\\\\lambda$)')\n",
    "plt.ylabel('MSE')\n",
    "plt.title('Cross Validated MSE from Lasso fit')\n",
    "plt.legend()\n",
    "plt.axis('tight')"
   ]
  },
  {
   "cell_type": "code",
   "execution_count": 265,
   "id": "91ff42ec",
   "metadata": {},
   "outputs": [
    {
     "data": {
      "text/plain": [
       "0.1"
      ]
     },
     "execution_count": 265,
     "metadata": {},
     "output_type": "execute_result"
    }
   ],
   "source": [
    "# Finding the minimum lamda value\n",
    "allmeans = list()\n",
    "for i in range(300):\n",
    "    allmeans.append(np.mean(all_mse_sk[i]))\n",
    "\n",
    "min_index = allmeans.index(min(allmeans))\n",
    "lamda[min_index]"
   ]
  },
  {
   "cell_type": "markdown",
   "id": "3d7a7b52",
   "metadata": {},
   "source": [
    "## Generating final model \n",
    "- Recap: \n",
    "    - Hyperparameter tuning: \n",
    "        - Coordinate_descent: lambda = 24244 (minimum MSE & minimum MAE) \n",
    "        - Sk_lasso: lambda = 16.75252472408214 (MAE), lambda = 0.1 (MSE)\n",
    "    - Lasso model without intercept is chosen because of strange lasso path that has increasing beta value.\n",
    "    \n",
    " - SK_Lasso Model: 5 variables: \n",
    "     - availability_365, 'neighbourhood_group_Brooklyn', 'neighbourhood_group_Manhattan', 'room_type_Entire home/apt', 'room_type_Private room'.\n",
    "     - $$y = 17.21323117 X_{availability365} + 2.6954145 X_{neighbourhoodgroup(Brooklyn)} + 27.00013305 X_{neighbourhoodgroup(Manhattan)} + 68.55946047 X_{roomtype(home/apt)} + 14.12280336 X_{roomtype(Private room)} + \\epsilon$$ with $\\epsilon$: noise term, and $\\lambda = 16.75252472408214$ tuned from minimium MAE\n",
    " - Coordinate_descent Model: 1 variable: \n",
    "     - $y = 909.26194755 X_{room_type_Private room} + \\epsilon$ with $\\lambda = 24244$"
   ]
  },
  {
   "cell_type": "code",
   "execution_count": 50,
   "id": "c79b16c8",
   "metadata": {},
   "outputs": [
    {
     "name": "stderr",
     "output_type": "stream",
     "text": [
      "C:\\Users\\kxu97\\anaconda3\\lib\\site-packages\\sklearn\\linear_model\\_coordinate_descent.py:1571: DataConversionWarning: A column-vector y was passed when a 1d array was expected. Please change the shape of y to (n_samples, ), for example using ravel().\n",
      "  y = column_or_1d(y, warn=True)\n"
     ]
    },
    {
     "data": {
      "text/plain": [
       "13551565.040087348"
      ]
     },
     "execution_count": 50,
     "metadata": {},
     "output_type": "execute_result"
    }
   ],
   "source": [
    "from sklearn.linear_model import LassoCV\n",
    "SSE = 0\n",
    "MSE = 0\n",
    "reg = LassoCV(cv=4, random_state=0).fit(X_train, y_train)\n",
    "y_pred = reg.predict(X_test)\n",
    "for i in range(len(y_test)):\n",
    "    SSE += (y_test[i] - y_pred[i])**2\n",
    "MSE = SSE/len(y_test)\n",
    "MSE\n",
    "#print(reg.score(X_test, y_test))"
   ]
  },
  {
   "cell_type": "code",
   "execution_count": 51,
   "id": "281e5215",
   "metadata": {},
   "outputs": [
    {
     "data": {
      "text/plain": [
       "3681.2450393973163"
      ]
     },
     "execution_count": 51,
     "metadata": {},
     "output_type": "execute_result"
    }
   ],
   "source": [
    "#RMSE of sk-learn LASSO fitting\n",
    "math.sqrt(MSE)"
   ]
  },
  {
   "cell_type": "code",
   "execution_count": 56,
   "id": "916bc507",
   "metadata": {
    "scrolled": true
   },
   "outputs": [],
   "source": [
    "clf = linear_model.Lasso(alpha= 0.1240639159058832 , fit_intercept = False)\n",
    "clf.fit(X_train,y_train)\n",
    "coefs = np.array(clf.coef_)"
   ]
  },
  {
   "cell_type": "code",
   "execution_count": 63,
   "id": "9dcabb15",
   "metadata": {},
   "outputs": [
    {
     "name": "stdout",
     "output_type": "stream",
     "text": [
      "-5.245707641144252 minimum_nights\n",
      "-9.142105366564714 number_of_reviews\n",
      "0.44993744622768894 reviews_per_month\n",
      "-2.6387289304227344 calculated_host_listings_count\n",
      "23.541270007059275 availability_365\n",
      "-3.575290348231469 neighbourhood_group_Bronx\n",
      "0.0 neighbourhood_group_Brooklyn\n",
      "27.76831604079182 neighbourhood_group_Manhattan\n",
      "-3.9825188759997787 neighbourhood_group_Queens\n",
      "-3.3815150703108996 neighbourhood_group_Staten Island\n",
      "0.0 neighbourhood_Allerton\n",
      "-0.18592459315219903 neighbourhood_Arden Heights\n",
      "-0.04394281969456824 neighbourhood_Arrochar\n",
      "1.1213649826019239 neighbourhood_Arverne\n",
      "1.2009071700173701 neighbourhood_Astoria\n",
      "-0.7715411502689357 neighbourhood_Bath Beach\n",
      "0.16393618757248252 neighbourhood_Battery Park City\n",
      "-1.1304125401925 neighbourhood_Bay Ridge\n",
      "0.03586007407216758 neighbourhood_Bay Terrace\n",
      "0.0 neighbourhood_Bay Terrace, Staten Island\n",
      "-0.10717515367259957 neighbourhood_Baychester\n",
      "2.9607703983608284 neighbourhood_Bayside\n",
      "-0.00036706858693948304 neighbourhood_Bayswater\n",
      "-0.4590537332236078 neighbourhood_Bedford-Stuyvesant\n",
      "-0.0 neighbourhood_Belle Harbor\n",
      "0.0 neighbourhood_Bellerose\n",
      "0.0 neighbourhood_Belmont\n",
      "-1.292450072017577 neighbourhood_Bensonhurst\n",
      "-0.6249604552088571 neighbourhood_Bergen Beach\n",
      "1.5819200496506478 neighbourhood_Boerum Hill\n",
      "-1.2800148965599334 neighbourhood_Borough Park\n",
      "0.760561266251727 neighbourhood_Breezy Point\n",
      "-0.008006265741321995 neighbourhood_Briarwood\n",
      "-0.8807892798250229 neighbourhood_Brighton Beach\n",
      "-0.4469953841627963 neighbourhood_Bronxdale\n",
      "3.754832726898437 neighbourhood_Brooklyn Heights\n",
      "-0.43787305246537667 neighbourhood_Brownsville\n",
      "0.03502838720451562 neighbourhood_Bull's Head\n",
      "-1.0108062097902095 neighbourhood_Bushwick\n",
      "0.032875507549362144 neighbourhood_Cambria Heights\n",
      "-1.6002045227818238 neighbourhood_Canarsie\n",
      "2.686551406638322 neighbourhood_Carroll Gardens\n",
      "-0.35224513583384165 neighbourhood_Castle Hill\n",
      "0.7098176657634196 neighbourhood_Castleton Corners\n",
      "4.797588906524219 neighbourhood_Chelsea\n",
      "-1.5507914348447762 neighbourhood_Chinatown\n",
      "-0.0 neighbourhood_City Island\n",
      "-0.5115529532459162 neighbourhood_Civic Center\n",
      "-0.0 neighbourhood_Claremont Village\n",
      "-0.01346739387978765 neighbourhood_Clason Point\n",
      "-0.0 neighbourhood_Clifton\n",
      "7.399160454459906 neighbourhood_Clinton Hill\n",
      "0.0 neighbourhood_Co-op City\n",
      "2.1372545858028813 neighbourhood_Cobble Hill\n",
      "-0.4304271577426963 neighbourhood_College Point\n",
      "0.0 neighbourhood_Columbia St\n",
      "-0.1550374983741796 neighbourhood_Concord\n",
      "-0.35767299712919726 neighbourhood_Concourse\n",
      "-0.04921178318571739 neighbourhood_Concourse Village\n",
      "0.1323558391589229 neighbourhood_Coney Island\n",
      "-0.9826061148789924 neighbourhood_Corona\n",
      "-0.0 neighbourhood_Crown Heights\n",
      "1.9696051039186733 neighbourhood_Cypress Hills\n",
      "1.1519542466470256 neighbourhood_DUMBO\n",
      "-0.0 neighbourhood_Ditmars Steinway\n",
      "-0.0 neighbourhood_Dongan Hills\n",
      "-0.33419388149609536 neighbourhood_Douglaston\n",
      "0.9463508457050188 neighbourhood_Downtown Brooklyn\n",
      "-0.1306845929960275 neighbourhood_Dyker Heights\n",
      "0.0 neighbourhood_East Elmhurst\n",
      "-0.0443519266804106 neighbourhood_East Flatbush\n",
      "-5.583579431346224 neighbourhood_East Harlem\n",
      "0.32343215493680855 neighbourhood_East Morrisania\n",
      "-2.446629115988829 neighbourhood_East New York\n",
      "0.0 neighbourhood_East Village\n",
      "-0.2138804029244224 neighbourhood_Eastchester\n",
      "-0.3780440969385811 neighbourhood_Edenwald\n",
      "-0.4006666343376211 neighbourhood_Edgemere\n",
      "-0.0 neighbourhood_Elmhurst\n",
      "0.0 neighbourhood_Eltingville\n",
      "-0.07903404371215329 neighbourhood_Emerson Hill\n",
      "-0.275334149220962 neighbourhood_Far Rockaway\n",
      "-0.009070483102699561 neighbourhood_Fieldston\n",
      "1.9211255683024473 neighbourhood_Financial District\n",
      "-0.8672972763041769 neighbourhood_Flatbush\n",
      "3.4408200193839673 neighbourhood_Flatiron District\n",
      "-0.6587795655022615 neighbourhood_Flatlands\n",
      "0.0 neighbourhood_Flushing\n",
      "-0.0 neighbourhood_Fordham\n",
      "0.908457108314677 neighbourhood_Forest Hills\n",
      "2.8941363797161044 neighbourhood_Fort Greene\n",
      "-0.8600901052906519 neighbourhood_Fort Hamilton\n",
      "0.0071281581048143715 neighbourhood_Fresh Meadows\n",
      "-0.4824241354953238 neighbourhood_Glendale\n",
      "2.3858922703608223 neighbourhood_Gowanus\n",
      "1.1244196733049139 neighbourhood_Gramercy\n",
      "-0.1693450367713835 neighbourhood_Graniteville\n",
      "-0.5719126228746862 neighbourhood_Grant City\n",
      "-0.5350345111565411 neighbourhood_Gravesend\n",
      "0.3176428132774156 neighbourhood_Great Kills\n",
      "4.985018734773787 neighbourhood_Greenpoint\n",
      "3.3094720284925954 neighbourhood_Greenwich Village\n",
      "0.6268186573324097 neighbourhood_Grymes Hill\n",
      "-8.56804453631664 neighbourhood_Harlem\n",
      "1.7130273604904624 neighbourhood_Hell's Kitchen\n",
      "0.0 neighbourhood_Highbridge\n",
      "-0.0 neighbourhood_Hollis\n",
      "0.0 neighbourhood_Holliswood\n",
      "-0.05913857380897552 neighbourhood_Howard Beach\n",
      "-0.2515218357697243 neighbourhood_Howland Hook\n",
      "-0.05460373118469126 neighbourhood_Huguenot\n",
      "-0.3539858720416239 neighbourhood_Hunts Point\n",
      "-4.975556606306988 neighbourhood_Inwood\n",
      "-0.6599410958287182 neighbourhood_Jackson Heights\n",
      "-0.6556372995066614 neighbourhood_Jamaica\n",
      "0.21600794657590552 neighbourhood_Jamaica Estates\n",
      "0.24697984535232895 neighbourhood_Jamaica Hills\n",
      "-0.5665932529961366 neighbourhood_Kensington\n",
      "-0.0066527335769412015 neighbourhood_Kew Gardens\n",
      "-0.6200366759056477 neighbourhood_Kew Gardens Hills\n",
      "0.0 neighbourhood_Kingsbridge\n",
      "-0.03183607462131037 neighbourhood_Kips Bay\n",
      "-0.04319124130534584 neighbourhood_Laurelton\n",
      "0.09797876294231232 neighbourhood_Lighthouse Hill\n",
      "-0.5098111397773234 neighbourhood_Little Italy\n",
      "-0.0 neighbourhood_Little Neck\n",
      "2.7433149109949495 neighbourhood_Long Island City\n",
      "-0.11308904177089499 neighbourhood_Longwood\n",
      "1.107756111129552 neighbourhood_Lower East Side\n",
      "-0.33630791090556944 neighbourhood_Manhattan Beach\n",
      "-1.4453022337720647 neighbourhood_Marble Hill\n",
      "-0.022321678736884402 neighbourhood_Mariners Harbor\n",
      "-0.8547683967984355 neighbourhood_Maspeth\n",
      "-0.020583661656178236 neighbourhood_Melrose\n",
      "-0.3272693913303726 neighbourhood_Middle Village\n",
      "-0.20407895058098552 neighbourhood_Midland Beach\n",
      "12.467952723016737 neighbourhood_Midtown\n",
      "-1.2355581237208302 neighbourhood_Midwood\n",
      "-0.061208146427293705 neighbourhood_Mill Basin\n",
      "-2.911704509148614 neighbourhood_Morningside Heights\n",
      "0.0 neighbourhood_Morris Heights\n",
      "0.008235302986204838 neighbourhood_Morris Park\n",
      "-0.0 neighbourhood_Morrisania\n",
      "-0.0 neighbourhood_Mott Haven\n",
      "0.0 neighbourhood_Mount Eden\n",
      "-0.10424636456194428 neighbourhood_Mount Hope\n",
      "1.4950196513539726 neighbourhood_Murray Hill\n",
      "0.5693752599384095 neighbourhood_Navy Yard\n",
      "0.42219597195616404 neighbourhood_Neponsit\n",
      "0.5990676083822186 neighbourhood_New Brighton\n",
      "-0.0 neighbourhood_New Dorp Beach\n",
      "-0.0969015483170697 neighbourhood_New Springville\n",
      "2.512801707673052 neighbourhood_NoHo\n",
      "5.821217481706429 neighbourhood_Nolita\n",
      "-0.0 neighbourhood_North Riverdale\n",
      "0.0 neighbourhood_Norwood\n",
      "-0.006779870290051415 neighbourhood_Oakwood\n",
      "-0.0 neighbourhood_Olinville\n",
      "-0.951823925936731 neighbourhood_Ozone Park\n",
      "3.0572483795545473 neighbourhood_Park Slope\n",
      "0.2500486408631763 neighbourhood_Parkchester\n",
      "-0.36601161855144904 neighbourhood_Pelham Bay\n",
      "-0.6714724804698577 neighbourhood_Pelham Gardens\n",
      "0.26436642680720723 neighbourhood_Port Morris\n",
      "-0.0018457755716559635 neighbourhood_Port Richmond\n",
      "0.36497957253179847 neighbourhood_Prince's Bay\n",
      "3.073352686120431 neighbourhood_Prospect Heights\n",
      "-0.5764942406634793 neighbourhood_Prospect-Lefferts Gardens\n",
      "-1.563199326616441 neighbourhood_Queens Village\n",
      "-0.5730373150610807 neighbourhood_Randall Manor\n",
      "0.6519908587867899 neighbourhood_Red Hook\n",
      "-0.30598406189756727 neighbourhood_Rego Park\n",
      "-0.6623283751562584 neighbourhood_Richmond Hill\n",
      "-0.29399109430732984 neighbourhood_Richmondtown\n",
      "-0.4182674059712273 neighbourhood_Ridgewood\n",
      "1.8976218836635934 neighbourhood_Riverdale\n",
      "0.05253051797270594 neighbourhood_Rockaway Beach\n",
      "-0.6410515355097697 neighbourhood_Roosevelt Island\n",
      "0.2035633732135187 neighbourhood_Rosebank\n",
      "-0.14654386189971103 neighbourhood_Rosedale\n",
      "-0.11211498195733201 neighbourhood_Rossville\n",
      "0.02920758138177758 neighbourhood_Schuylerville\n",
      "0.13549264671354444 neighbourhood_Sea Gate\n",
      "-0.32464630347988066 neighbourhood_Sheepshead Bay\n",
      "-0.0 neighbourhood_Shore Acres\n",
      "0.0 neighbourhood_Silver Lake\n",
      "9.095942113014633 neighbourhood_SoHo\n",
      "-0.2909229342143384 neighbourhood_Soundview\n",
      "0.5406577644173381 neighbourhood_South Beach\n",
      "-0.37038064604590587 neighbourhood_South Ozone Park\n",
      "1.6703575682549663 neighbourhood_South Slope\n",
      "-0.2608261112614026 neighbourhood_Springfield Gardens\n",
      "-0.2962019550723264 neighbourhood_Spuyten Duyvil\n",
      "-0.5545382953221211 neighbourhood_St. Albans\n",
      "0.06915233288444611 neighbourhood_St. George\n",
      "0.20202748421684205 neighbourhood_Stapleton\n",
      "-0.2636488254412858 neighbourhood_Stuyvesant Town\n",
      "-0.1700899228734584 neighbourhood_Sunnyside\n",
      "0.06348682041102748 neighbourhood_Sunset Park\n",
      "3.3988234867627556 neighbourhood_Theater District\n",
      "0.047000131236479975 neighbourhood_Throgs Neck\n",
      "0.7941167314094156 neighbourhood_Todt Hill\n",
      "-0.0 neighbourhood_Tompkinsville\n",
      "0.0 neighbourhood_Tottenville\n",
      "-0.12483588441592061 neighbourhood_Tremont\n",
      "15.432100035669894 neighbourhood_Tribeca\n",
      "-1.2902002935677903 neighbourhood_Two Bridges\n",
      "0.11304069205006502 neighbourhood_Unionport\n",
      "0.18951310810559557 neighbourhood_University Heights\n",
      "-3.8547394977860248 neighbourhood_Upper East Side\n",
      "2.4595557062242803 neighbourhood_Upper West Side\n",
      "-0.17044719330516953 neighbourhood_Van Nest\n",
      "1.0969991543320237 neighbourhood_Vinegar Hill\n",
      "-0.338028173362447 neighbourhood_Wakefield\n",
      "-8.275101817727274 neighbourhood_Washington Heights\n",
      "-0.17939645686333672 neighbourhood_West Brighton\n",
      "-0.0 neighbourhood_West Farms\n",
      "5.742651767776588 neighbourhood_West Village\n",
      "0.8229488453869703 neighbourhood_Westchester Square\n",
      "0.0 neighbourhood_Westerleigh\n",
      "0.27652845929934095 neighbourhood_Whitestone\n",
      "0.10173086792599836 neighbourhood_Williamsbridge\n",
      "8.227084057607037 neighbourhood_Williamsburg\n",
      "0.3639472030678233 neighbourhood_Willowbrook\n",
      "0.0 neighbourhood_Windsor Terrace\n",
      "-0.9356310105748333 neighbourhood_Woodhaven\n",
      "-0.23890398724842715 neighbourhood_Woodlawn\n",
      "0.10892290823916816 neighbourhood_Woodside\n",
      "47.18672936847277 room_type_Entire home/apt\n",
      "-0.0 room_type_Private room\n",
      "-4.276062123522394 room_type_Shared room\n"
     ]
    },
    {
     "data": {
      "text/plain": [
       "41"
      ]
     },
     "execution_count": 63,
     "metadata": {},
     "output_type": "execute_result"
    }
   ],
   "source": [
    "# Beta coefficient and associated variable of our LASSO solution (sklearn fitting)\n",
    "\n",
    "count = 0\n",
    "for i in range(len(coefs)):\n",
    "    print(coefs[i],cols[i])\n",
    "    if coefs[i] == 0:\n",
    "        count+=1\n",
    "count"
   ]
  },
  {
   "cell_type": "code",
   "execution_count": 62,
   "id": "27e3dc86",
   "metadata": {},
   "outputs": [
    {
     "name": "stdout",
     "output_type": "stream",
     "text": [
      "47.18672936847277 room_type_Entire home/apt\n"
     ]
    }
   ],
   "source": [
    "# The variable with highest magnitude coefficient is printed.\n",
    "# The top 5 variables and their coefficient values are commented below.\n",
    "\n",
    "print(coefs[np.argmax(coefs)],cols[np.argmax(coefs)])\n",
    "\n",
    "#1. room_type_Entire home/apt:: 47.18672936847277\n",
    "#2. 27.76831604079182 neighbourhood_group_Manhattan\\\n",
    "#3. 15.432100035669894 neighbourhood_Tribeca\n",
    "#4. 12.467952723016737 neighbourhood_Midtown\n",
    "#5. -9.142105366564714 number_of_reviews\n",
    "#6. -8.56804453631664 neighbourhood_Harlem"
   ]
  },
  {
   "cell_type": "code",
   "execution_count": 64,
   "id": "d0ca206f",
   "metadata": {},
   "outputs": [
    {
     "data": {
      "text/plain": [
       "190"
      ]
     },
     "execution_count": 64,
     "metadata": {},
     "output_type": "execute_result"
    }
   ],
   "source": [
    "# Number of variables remaining after dimension reduction\n",
    "\n",
    "231-41"
   ]
  },
  {
   "cell_type": "code",
   "execution_count": 70,
   "id": "c6f26a57",
   "metadata": {},
   "outputs": [],
   "source": [
    "\n",
    "# Computing MSE of our fitted LASSO model\n",
    "y_pred = X_test@coefs\n",
    "SSE = 0\n",
    "for i in range(11652):\n",
    "    SSE += (y_test[i] - y_pred[i])**2\n",
    "MSE = SSE/11652\n",
    "RMSE = math.sqrt(MSE)"
   ]
  },
  {
   "cell_type": "code",
   "execution_count": 71,
   "id": "f9305bfd",
   "metadata": {},
   "outputs": [
    {
     "data": {
      "text/plain": [
       "3729.2527489804756"
      ]
     },
     "execution_count": 71,
     "metadata": {},
     "output_type": "execute_result"
    }
   ],
   "source": [
    "RMSE"
   ]
  },
  {
   "cell_type": "code",
   "execution_count": 74,
   "id": "86011b10",
   "metadata": {},
   "outputs": [
    {
     "name": "stdout",
     "output_type": "stream",
     "text": [
      "0.0066953704133738325\n"
     ]
    }
   ],
   "source": [
    "import numpy\n",
    " \n",
    "corr_matrix = numpy.corrcoef(y_test, y_pred)\n",
    "corr = corr_matrix[0,1]\n",
    "R_sq = corr**2\n",
    " \n",
    "print(R_sq)"
   ]
  },
  {
   "cell_type": "code",
   "execution_count": 75,
   "id": "11d166cf",
   "metadata": {},
   "outputs": [],
   "source": [
    "adj = 1 - ((1 - R_sq)*(len(y_test) - 1)) / (len(y_test) - 231 - 1)"
   ]
  },
  {
   "cell_type": "code",
   "execution_count": 76,
   "id": "adf824f9",
   "metadata": {},
   "outputs": [
    {
     "data": {
      "text/plain": [
       "-0.013396868591399436"
      ]
     },
     "execution_count": 76,
     "metadata": {},
     "output_type": "execute_result"
    }
   ],
   "source": [
    "adj"
   ]
  },
  {
   "cell_type": "code",
   "execution_count": 77,
   "id": "0122d46f",
   "metadata": {},
   "outputs": [
    {
     "data": {
      "text/plain": [
       "11652"
      ]
     },
     "execution_count": 77,
     "metadata": {},
     "output_type": "execute_result"
    }
   ],
   "source": [
    "len(y_test)"
   ]
  }
 ],
 "metadata": {
  "kernelspec": {
   "display_name": "Python 3",
   "language": "python",
   "name": "python3"
  },
  "language_info": {
   "codemirror_mode": {
    "name": "ipython",
    "version": 3
   },
   "file_extension": ".py",
   "mimetype": "text/x-python",
   "name": "python",
   "nbconvert_exporter": "python",
   "pygments_lexer": "ipython3",
   "version": "3.8.8"
  }
 },
 "nbformat": 4,
 "nbformat_minor": 5
}

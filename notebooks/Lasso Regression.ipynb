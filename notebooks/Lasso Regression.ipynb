{
 "cells": [
  {
   "cell_type": "code",
   "execution_count": 74,
   "id": "8c4e7f0e",
   "metadata": {},
   "outputs": [],
   "source": [
    "import numpy as np\n",
    "import pandas as pd\n",
    "from matplotlib import pyplot as plt\n",
    "from mpl_toolkits.mplot3d import Axes3D\n",
    "from mpl_toolkits import mplot3d\n",
    "from sklearn.model_selection import KFold\n",
    "from sklearn import linear_model\n",
    "import math\n",
    "\n",
    "%matplotlib inline\n",
    "plt.style.use('seaborn-white')"
   ]
  },
  {
   "cell_type": "markdown",
   "id": "459a2f22",
   "metadata": {},
   "source": [
    "## Lasso Overview\n",
    "\n",
    "Least Absolute Shrinkage and Selection Operator\n",
    "\n",
    "Objective Function:\n",
    "\n",
    "$$ \\begin{eqnarray}\n",
    "\\underset{\\beta}{\\mathrm{argmin}} RSS_{lasso} (\\beta) &=& \\frac{1}{n} \\underset{\\beta}{\\mathrm{argmin}} (RSS_{OLS} (\\beta) + \\lambda |\\beta|_{1} )\\\\\n",
    "&=& \\underset{\\beta}{\\mathrm{argmin}} \\frac{1}{n} ||y - (\\beta)X)||^{2}_{2} + \\lambda |\\beta|_{1} \\\\ \n",
    "&=& f(\\beta) + g(\\beta)\n",
    "\\end{eqnarray}$$\n",
    "\n",
    "where $f(\\beta)$ is the $RSS_{OLS}$ term, and $g(\\beta)$ is the regularization factor for Lasso.\n",
    "\n",
    "After applying some subdifferentials and subderivatives, we find that the Objective function becomes: \n",
    "\n",
    "$$ \\begin{eqnarray}\n",
    "\\frac{\\partial d}{\\partial d \\beta_{j}} RSS_{Lasso} + \\partial \\beta_{j} \\lambda \\sum^{n}_{j=0} |\\beta_{j}|\n",
    "&=& - \\sum^{m}_{i=0} x_{j}^{i} (y^{i} - \\sum^{n}_{k \\ne j} \\theta_{k} x_{k}^{i} ) + \\theta_{j} \\sum^{m}_{i=1} (x_{j}^{i})^{2} + \\partial_{\\beta_{j}} \\lambda|\\beta_{j}| \\\\ \n",
    "&=& - \\rho_{j} +  \\beta_{j} z + \\partial_{\\beta_{j}} \\lambda|\\beta_{j}| \\\\\n",
    "\\end{eqnarray}$$\n",
    "\n",
    "Proposed strategy:\n",
    "- Solve linear system via soft-thresholding with coordinate descent for given values of tuning parameter lambda.\n",
    "- Tuning lambda via 4-fold Cross validation. k value with lowest mean MSE will be chosen. "
   ]
  },
  {
   "cell_type": "markdown",
   "id": "d4be29cb",
   "metadata": {},
   "source": [
    "### Lasso from scratch begins here: \n",
    "\n",
    "1. The setup: design matrix and response variable (price).\n",
    "2. Two functions: soft_thresholding and coordinate_descent_lasso are created. \n",
    "    - soft_thresholding: returns value of $\\beta^{(LASSO)}_{j}$  based on values of the OLS solution $\\hat{\\beta_{j}^{(OLS)}}$. The process involves finding the first derivative of the LASSO objective function- in whihc the OLS solution is factorized into the product of normalization constant $z_{j}$ and $\\rho$. The LASSO solution then becomes a piecewise solution based on the relative value of $\\rho$ and $\\lambda$: $\\rho > lambda$, $\\rho < -\\lambda$, $-\\lambda \\le \\rho \\le \\lambda$. soft_thresholding returns these piecewise solutions based on $\\rho$ and $\\lambda$ values.  "
   ]
  },
  {
   "cell_type": "markdown",
   "id": "7655c103",
   "metadata": {},
   "source": [
    "### Importing data and defining functions (soft_threshold, coordinate_descent_lasso, lambda_tune)"
   ]
  },
  {
   "cell_type": "code",
   "execution_count": 75,
   "id": "89a94ae7",
   "metadata": {},
   "outputs": [],
   "source": [
    "# run\n",
    "\n",
    "def soft_threshold(rho,lamda): \n",
    "    '''Soft threshold function used for normalized data and lasso regression'''\n",
    "    if rho < - lamda:\n",
    "        return (rho + lamda)\n",
    "    elif rho >  lamda:\n",
    "        return (rho - lamda)\n",
    "    else: \n",
    "        return 0"
   ]
  },
  {
   "cell_type": "code",
   "execution_count": 76,
   "id": "155781c9",
   "metadata": {},
   "outputs": [],
   "source": [
    "# run\n",
    "\n",
    "def coordinate_descent_lasso(theta,X,y,lamda = .01, num_iters=100, intercept = False):\n",
    "    '''Coordinate gradient descent for lasso regression - for normalized data. \n",
    "    The intercept parameter allows to specify whether or not we regularize theta_0'''\n",
    "    \n",
    "    #Initialisation of useful values \n",
    "    m,n = X.shape\n",
    "    X = X / (np.linalg.norm(X,axis = 0)) #normalizing X in case it was not done before\n",
    "    \n",
    "    #Looping until max number of iterations\n",
    "    for i in range(num_iters): \n",
    "        \n",
    "        #Looping through each coordinate\n",
    "        for j in range(n):\n",
    "            \n",
    "            #Vectorized implementation\n",
    "            X_j = X[:,j].reshape(-1,1)\n",
    "            y_pred = X @ theta\n",
    "            rho = X_j.T @ (y - y_pred  + theta[j]*X_j)\n",
    "        \n",
    "            #Checking intercept parameter\n",
    "            if intercept == True:  \n",
    "                if j == 0: \n",
    "                    theta[j] =  rho \n",
    "                else:\n",
    "                    theta[j] =  soft_threshold(rho, lamda)  \n",
    "\n",
    "            if intercept == False:\n",
    "                theta[j] =  soft_threshold(rho, lamda)   \n",
    "            \n",
    "    return theta.flatten()"
   ]
  },
  {
   "cell_type": "code",
   "execution_count": 77,
   "id": "7a87b932",
   "metadata": {},
   "outputs": [],
   "source": [
    "# run\n",
    "\n",
    "def lambda_tune(X_train,y_train):\n",
    "    \n",
    "    all_mse = list() # 300 total entries (lambda), each entry has 10 entries (10-fold)\n",
    "    lamda = np.logspace(0,7,300)/10 #Range of lambda values\n",
    "    \n",
    "    kf = KFold(n_splits = 10, random_state = True, shuffle = True)\n",
    "\n",
    "    for l in lamda:                                             # Iterate through all lambda (200)\n",
    "        mse_vals = list()\n",
    "        \n",
    "        for train_index, test_index in kf.split(X_train):       # Iterate through each of 10 folds for each lamda \n",
    "            temp_X_train = X_train[train_index]\n",
    "            temp_y_train = y_train[train_index]\n",
    "            temp_X_test = X_train[test_index]\n",
    "            temp_y_test = y_train[test_index]\n",
    "            \n",
    "            n,p = temp_X_train.shape\n",
    "            initial_theta = np.ones((p,1))\n",
    "            MSE = 0\n",
    "\n",
    "            theta = coordinate_descent_lasso(initial_theta,temp_X_train,temp_y_train,lamda = l, num_iters=100) # fit lasso model\n",
    "            y_pred = temp_X_test @ theta                         # Predicted response values based on beta coefficients   \n",
    "            \n",
    "            for i in range(len(test_index)):\n",
    "                MSE += (temp_y_test[i][0] - y_pred[i])**2\n",
    "            MSE = MSE/n                                         # MSE of each of the 4 lasso models fitted to a given lambda \n",
    "            mse_vals.append(MSE)\n",
    "        all_mse.append(mse_vals)\n",
    "    return all_mse,lamda"
   ]
  },
  {
   "cell_type": "code",
   "execution_count": 89,
   "id": "ea7f4614",
   "metadata": {},
   "outputs": [],
   "source": [
    "# run\n",
    "\n",
    "#Loading in Data\n",
    "df = pd.read_csv(\"../data/listings.csv\")\n",
    "df.drop(df.columns[0], axis=1, inplace=True)"
   ]
  },
  {
   "cell_type": "code",
   "execution_count": 90,
   "id": "9b7c7ae5",
   "metadata": {},
   "outputs": [],
   "source": [
    "# run\n",
    "\n",
    "# Standardizing all coliumns of X except for the dummy variables\n",
    "def standardizeData(data):\n",
    "    # Takes pandas dataframe and standardizes it iteratively\n",
    "    for column in data:\n",
    "        if (data[column] != 0).sum() == 0:  # If the column is all zeros\n",
    "            continue  # No need to standardize all zeros (thus dividing by zero)\n",
    "        else:\n",
    "            data[column] = (data[column] - np.mean(data[column])) / np.std(data[column])\n",
    "    return data\n",
    "\n",
    "\n",
    "def r2score(y_pred, y):\n",
    "    rss = np.sum((y_pred - y) ** 2)\n",
    "    tss = np.sum((y - y.mean()) ** 2)\n",
    "\n",
    "    r2 = 1 - (rss / tss)\n",
    "    return r2"
   ]
  },
  {
   "cell_type": "code",
   "execution_count": 94,
   "id": "36932886",
   "metadata": {},
   "outputs": [
    {
     "data": {
      "text/html": [
       "<div>\n",
       "<style scoped>\n",
       "    .dataframe tbody tr th:only-of-type {\n",
       "        vertical-align: middle;\n",
       "    }\n",
       "\n",
       "    .dataframe tbody tr th {\n",
       "        vertical-align: top;\n",
       "    }\n",
       "\n",
       "    .dataframe thead th {\n",
       "        text-align: right;\n",
       "    }\n",
       "</style>\n",
       "<table border=\"1\" class=\"dataframe\">\n",
       "  <thead>\n",
       "    <tr style=\"text-align: right;\">\n",
       "      <th></th>\n",
       "      <th>minimum_nights</th>\n",
       "      <th>number_of_reviews</th>\n",
       "      <th>reviews_per_month</th>\n",
       "      <th>calculated_host_listings_count</th>\n",
       "      <th>availability_365</th>\n",
       "      <th>neighbourhood_group_Bronx</th>\n",
       "      <th>neighbourhood_group_Brooklyn</th>\n",
       "      <th>neighbourhood_group_Manhattan</th>\n",
       "      <th>neighbourhood_group_Queens</th>\n",
       "      <th>neighbourhood_group_Staten Island</th>\n",
       "      <th>...</th>\n",
       "      <th>neighbourhood_Williamsbridge</th>\n",
       "      <th>neighbourhood_Williamsburg</th>\n",
       "      <th>neighbourhood_Willowbrook</th>\n",
       "      <th>neighbourhood_Windsor Terrace</th>\n",
       "      <th>neighbourhood_Woodhaven</th>\n",
       "      <th>neighbourhood_Woodlawn</th>\n",
       "      <th>neighbourhood_Woodside</th>\n",
       "      <th>room_type_Entire home/apt</th>\n",
       "      <th>room_type_Private room</th>\n",
       "      <th>room_type_Shared room</th>\n",
       "    </tr>\n",
       "  </thead>\n",
       "  <tbody>\n",
       "    <tr>\n",
       "      <th>13968</th>\n",
       "      <td>-0.280024</td>\n",
       "      <td>0.118265</td>\n",
       "      <td>1.080994</td>\n",
       "      <td>-0.158385</td>\n",
       "      <td>-0.740202</td>\n",
       "      <td>-0.151909</td>\n",
       "      <td>-0.856980</td>\n",
       "      <td>1.155698</td>\n",
       "      <td>-0.365372</td>\n",
       "      <td>-0.090283</td>\n",
       "      <td>...</td>\n",
       "      <td>-0.029601</td>\n",
       "      <td>-0.297765</td>\n",
       "      <td>-0.005074</td>\n",
       "      <td>-0.057504</td>\n",
       "      <td>-0.043097</td>\n",
       "      <td>-0.016832</td>\n",
       "      <td>-0.066306</td>\n",
       "      <td>-1.047933</td>\n",
       "      <td>1.094830</td>\n",
       "      <td>-0.149226</td>\n",
       "    </tr>\n",
       "    <tr>\n",
       "      <th>27216</th>\n",
       "      <td>-0.222506</td>\n",
       "      <td>-0.545793</td>\n",
       "      <td>-0.680406</td>\n",
       "      <td>-0.158385</td>\n",
       "      <td>-0.886880</td>\n",
       "      <td>-0.151909</td>\n",
       "      <td>-0.856980</td>\n",
       "      <td>1.155698</td>\n",
       "      <td>-0.365372</td>\n",
       "      <td>-0.090283</td>\n",
       "      <td>...</td>\n",
       "      <td>-0.029601</td>\n",
       "      <td>-0.297765</td>\n",
       "      <td>-0.005074</td>\n",
       "      <td>-0.057504</td>\n",
       "      <td>-0.043097</td>\n",
       "      <td>-0.016832</td>\n",
       "      <td>-0.066306</td>\n",
       "      <td>-1.047933</td>\n",
       "      <td>1.094830</td>\n",
       "      <td>-0.149226</td>\n",
       "    </tr>\n",
       "    <tr>\n",
       "      <th>4467</th>\n",
       "      <td>0.812819</td>\n",
       "      <td>-0.504289</td>\n",
       "      <td>-0.763716</td>\n",
       "      <td>-0.158385</td>\n",
       "      <td>-0.886880</td>\n",
       "      <td>-0.151909</td>\n",
       "      <td>1.166889</td>\n",
       "      <td>-0.865278</td>\n",
       "      <td>-0.365372</td>\n",
       "      <td>-0.090283</td>\n",
       "      <td>...</td>\n",
       "      <td>-0.029601</td>\n",
       "      <td>-0.297765</td>\n",
       "      <td>-0.005074</td>\n",
       "      <td>-0.057504</td>\n",
       "      <td>-0.043097</td>\n",
       "      <td>-0.016832</td>\n",
       "      <td>-0.066306</td>\n",
       "      <td>0.954260</td>\n",
       "      <td>-0.913384</td>\n",
       "      <td>-0.149226</td>\n",
       "    </tr>\n",
       "    <tr>\n",
       "      <th>23786</th>\n",
       "      <td>-0.222506</td>\n",
       "      <td>-0.504289</td>\n",
       "      <td>-0.585196</td>\n",
       "      <td>-0.158385</td>\n",
       "      <td>-0.886880</td>\n",
       "      <td>-0.151909</td>\n",
       "      <td>-0.856980</td>\n",
       "      <td>1.155698</td>\n",
       "      <td>-0.365372</td>\n",
       "      <td>-0.090283</td>\n",
       "      <td>...</td>\n",
       "      <td>-0.029601</td>\n",
       "      <td>-0.297765</td>\n",
       "      <td>-0.005074</td>\n",
       "      <td>-0.057504</td>\n",
       "      <td>-0.043097</td>\n",
       "      <td>-0.016832</td>\n",
       "      <td>-0.066306</td>\n",
       "      <td>0.954260</td>\n",
       "      <td>-0.913384</td>\n",
       "      <td>-0.149226</td>\n",
       "    </tr>\n",
       "    <tr>\n",
       "      <th>33348</th>\n",
       "      <td>-0.107470</td>\n",
       "      <td>-0.545793</td>\n",
       "      <td>-0.484034</td>\n",
       "      <td>-0.158385</td>\n",
       "      <td>-0.794242</td>\n",
       "      <td>-0.151909</td>\n",
       "      <td>-0.856980</td>\n",
       "      <td>-0.865278</td>\n",
       "      <td>2.736936</td>\n",
       "      <td>-0.090283</td>\n",
       "      <td>...</td>\n",
       "      <td>-0.029601</td>\n",
       "      <td>-0.297765</td>\n",
       "      <td>-0.005074</td>\n",
       "      <td>-0.057504</td>\n",
       "      <td>-0.043097</td>\n",
       "      <td>-0.016832</td>\n",
       "      <td>-0.066306</td>\n",
       "      <td>0.954260</td>\n",
       "      <td>-0.913384</td>\n",
       "      <td>-0.149226</td>\n",
       "    </tr>\n",
       "    <tr>\n",
       "      <th>...</th>\n",
       "      <td>...</td>\n",
       "      <td>...</td>\n",
       "      <td>...</td>\n",
       "      <td>...</td>\n",
       "      <td>...</td>\n",
       "      <td>...</td>\n",
       "      <td>...</td>\n",
       "      <td>...</td>\n",
       "      <td>...</td>\n",
       "      <td>...</td>\n",
       "      <td>...</td>\n",
       "      <td>...</td>\n",
       "      <td>...</td>\n",
       "      <td>...</td>\n",
       "      <td>...</td>\n",
       "      <td>...</td>\n",
       "      <td>...</td>\n",
       "      <td>...</td>\n",
       "      <td>...</td>\n",
       "      <td>...</td>\n",
       "      <td>...</td>\n",
       "    </tr>\n",
       "    <tr>\n",
       "      <th>20757</th>\n",
       "      <td>-0.164988</td>\n",
       "      <td>-0.400530</td>\n",
       "      <td>-0.567344</td>\n",
       "      <td>-0.158385</td>\n",
       "      <td>0.850094</td>\n",
       "      <td>-0.151909</td>\n",
       "      <td>1.166889</td>\n",
       "      <td>-0.865278</td>\n",
       "      <td>-0.365372</td>\n",
       "      <td>-0.090283</td>\n",
       "      <td>...</td>\n",
       "      <td>-0.029601</td>\n",
       "      <td>-0.297765</td>\n",
       "      <td>-0.005074</td>\n",
       "      <td>-0.057504</td>\n",
       "      <td>-0.043097</td>\n",
       "      <td>-0.016832</td>\n",
       "      <td>-0.066306</td>\n",
       "      <td>0.954260</td>\n",
       "      <td>-0.913384</td>\n",
       "      <td>-0.149226</td>\n",
       "    </tr>\n",
       "    <tr>\n",
       "      <th>32103</th>\n",
       "      <td>-0.164988</td>\n",
       "      <td>-0.213764</td>\n",
       "      <td>0.723954</td>\n",
       "      <td>-0.158385</td>\n",
       "      <td>-0.045413</td>\n",
       "      <td>6.582893</td>\n",
       "      <td>-0.856980</td>\n",
       "      <td>-0.865278</td>\n",
       "      <td>-0.365372</td>\n",
       "      <td>-0.090283</td>\n",
       "      <td>...</td>\n",
       "      <td>-0.029601</td>\n",
       "      <td>-0.297765</td>\n",
       "      <td>-0.005074</td>\n",
       "      <td>-0.057504</td>\n",
       "      <td>-0.043097</td>\n",
       "      <td>-0.016832</td>\n",
       "      <td>-0.066306</td>\n",
       "      <td>-1.047933</td>\n",
       "      <td>1.094830</td>\n",
       "      <td>-0.149226</td>\n",
       "    </tr>\n",
       "    <tr>\n",
       "      <th>30403</th>\n",
       "      <td>-0.222506</td>\n",
       "      <td>-0.317523</td>\n",
       "      <td>0.414518</td>\n",
       "      <td>0.297935</td>\n",
       "      <td>1.212929</td>\n",
       "      <td>-0.151909</td>\n",
       "      <td>-0.856980</td>\n",
       "      <td>1.155698</td>\n",
       "      <td>-0.365372</td>\n",
       "      <td>-0.090283</td>\n",
       "      <td>...</td>\n",
       "      <td>-0.029601</td>\n",
       "      <td>-0.297765</td>\n",
       "      <td>-0.005074</td>\n",
       "      <td>-0.057504</td>\n",
       "      <td>-0.043097</td>\n",
       "      <td>-0.016832</td>\n",
       "      <td>-0.066306</td>\n",
       "      <td>0.954260</td>\n",
       "      <td>-0.913384</td>\n",
       "      <td>-0.149226</td>\n",
       "    </tr>\n",
       "    <tr>\n",
       "      <th>21243</th>\n",
       "      <td>-0.280024</td>\n",
       "      <td>-0.359027</td>\n",
       "      <td>-0.501886</td>\n",
       "      <td>-0.082332</td>\n",
       "      <td>-0.886880</td>\n",
       "      <td>-0.151909</td>\n",
       "      <td>1.166889</td>\n",
       "      <td>-0.865278</td>\n",
       "      <td>-0.365372</td>\n",
       "      <td>-0.090283</td>\n",
       "      <td>...</td>\n",
       "      <td>-0.029601</td>\n",
       "      <td>3.358353</td>\n",
       "      <td>-0.005074</td>\n",
       "      <td>-0.057504</td>\n",
       "      <td>-0.043097</td>\n",
       "      <td>-0.016832</td>\n",
       "      <td>-0.066306</td>\n",
       "      <td>0.954260</td>\n",
       "      <td>-0.913384</td>\n",
       "      <td>-0.149226</td>\n",
       "    </tr>\n",
       "    <tr>\n",
       "      <th>2732</th>\n",
       "      <td>-0.107470</td>\n",
       "      <td>-0.338275</td>\n",
       "      <td>-0.686357</td>\n",
       "      <td>-0.158385</td>\n",
       "      <td>-0.886880</td>\n",
       "      <td>-0.151909</td>\n",
       "      <td>-0.856980</td>\n",
       "      <td>1.155698</td>\n",
       "      <td>-0.365372</td>\n",
       "      <td>-0.090283</td>\n",
       "      <td>...</td>\n",
       "      <td>-0.029601</td>\n",
       "      <td>-0.297765</td>\n",
       "      <td>-0.005074</td>\n",
       "      <td>-0.057504</td>\n",
       "      <td>-0.043097</td>\n",
       "      <td>-0.016832</td>\n",
       "      <td>-0.066306</td>\n",
       "      <td>0.954260</td>\n",
       "      <td>-0.913384</td>\n",
       "      <td>-0.149226</td>\n",
       "    </tr>\n",
       "  </tbody>\n",
       "</table>\n",
       "<p>27185 rows × 231 columns</p>\n",
       "</div>"
      ],
      "text/plain": [
       "       minimum_nights  number_of_reviews  reviews_per_month  \\\n",
       "13968       -0.280024           0.118265           1.080994   \n",
       "27216       -0.222506          -0.545793          -0.680406   \n",
       "4467         0.812819          -0.504289          -0.763716   \n",
       "23786       -0.222506          -0.504289          -0.585196   \n",
       "33348       -0.107470          -0.545793          -0.484034   \n",
       "...               ...                ...                ...   \n",
       "20757       -0.164988          -0.400530          -0.567344   \n",
       "32103       -0.164988          -0.213764           0.723954   \n",
       "30403       -0.222506          -0.317523           0.414518   \n",
       "21243       -0.280024          -0.359027          -0.501886   \n",
       "2732        -0.107470          -0.338275          -0.686357   \n",
       "\n",
       "       calculated_host_listings_count  availability_365  \\\n",
       "13968                       -0.158385         -0.740202   \n",
       "27216                       -0.158385         -0.886880   \n",
       "4467                        -0.158385         -0.886880   \n",
       "23786                       -0.158385         -0.886880   \n",
       "33348                       -0.158385         -0.794242   \n",
       "...                               ...               ...   \n",
       "20757                       -0.158385          0.850094   \n",
       "32103                       -0.158385         -0.045413   \n",
       "30403                        0.297935          1.212929   \n",
       "21243                       -0.082332         -0.886880   \n",
       "2732                        -0.158385         -0.886880   \n",
       "\n",
       "       neighbourhood_group_Bronx  neighbourhood_group_Brooklyn  \\\n",
       "13968                  -0.151909                     -0.856980   \n",
       "27216                  -0.151909                     -0.856980   \n",
       "4467                   -0.151909                      1.166889   \n",
       "23786                  -0.151909                     -0.856980   \n",
       "33348                  -0.151909                     -0.856980   \n",
       "...                          ...                           ...   \n",
       "20757                  -0.151909                      1.166889   \n",
       "32103                   6.582893                     -0.856980   \n",
       "30403                  -0.151909                     -0.856980   \n",
       "21243                  -0.151909                      1.166889   \n",
       "2732                   -0.151909                     -0.856980   \n",
       "\n",
       "       neighbourhood_group_Manhattan  neighbourhood_group_Queens  \\\n",
       "13968                       1.155698                   -0.365372   \n",
       "27216                       1.155698                   -0.365372   \n",
       "4467                       -0.865278                   -0.365372   \n",
       "23786                       1.155698                   -0.365372   \n",
       "33348                      -0.865278                    2.736936   \n",
       "...                              ...                         ...   \n",
       "20757                      -0.865278                   -0.365372   \n",
       "32103                      -0.865278                   -0.365372   \n",
       "30403                       1.155698                   -0.365372   \n",
       "21243                      -0.865278                   -0.365372   \n",
       "2732                        1.155698                   -0.365372   \n",
       "\n",
       "       neighbourhood_group_Staten Island  ...  neighbourhood_Williamsbridge  \\\n",
       "13968                          -0.090283  ...                     -0.029601   \n",
       "27216                          -0.090283  ...                     -0.029601   \n",
       "4467                           -0.090283  ...                     -0.029601   \n",
       "23786                          -0.090283  ...                     -0.029601   \n",
       "33348                          -0.090283  ...                     -0.029601   \n",
       "...                                  ...  ...                           ...   \n",
       "20757                          -0.090283  ...                     -0.029601   \n",
       "32103                          -0.090283  ...                     -0.029601   \n",
       "30403                          -0.090283  ...                     -0.029601   \n",
       "21243                          -0.090283  ...                     -0.029601   \n",
       "2732                           -0.090283  ...                     -0.029601   \n",
       "\n",
       "       neighbourhood_Williamsburg  neighbourhood_Willowbrook  \\\n",
       "13968                   -0.297765                  -0.005074   \n",
       "27216                   -0.297765                  -0.005074   \n",
       "4467                    -0.297765                  -0.005074   \n",
       "23786                   -0.297765                  -0.005074   \n",
       "33348                   -0.297765                  -0.005074   \n",
       "...                           ...                        ...   \n",
       "20757                   -0.297765                  -0.005074   \n",
       "32103                   -0.297765                  -0.005074   \n",
       "30403                   -0.297765                  -0.005074   \n",
       "21243                    3.358353                  -0.005074   \n",
       "2732                    -0.297765                  -0.005074   \n",
       "\n",
       "       neighbourhood_Windsor Terrace  neighbourhood_Woodhaven  \\\n",
       "13968                      -0.057504                -0.043097   \n",
       "27216                      -0.057504                -0.043097   \n",
       "4467                       -0.057504                -0.043097   \n",
       "23786                      -0.057504                -0.043097   \n",
       "33348                      -0.057504                -0.043097   \n",
       "...                              ...                      ...   \n",
       "20757                      -0.057504                -0.043097   \n",
       "32103                      -0.057504                -0.043097   \n",
       "30403                      -0.057504                -0.043097   \n",
       "21243                      -0.057504                -0.043097   \n",
       "2732                       -0.057504                -0.043097   \n",
       "\n",
       "       neighbourhood_Woodlawn  neighbourhood_Woodside  \\\n",
       "13968               -0.016832               -0.066306   \n",
       "27216               -0.016832               -0.066306   \n",
       "4467                -0.016832               -0.066306   \n",
       "23786               -0.016832               -0.066306   \n",
       "33348               -0.016832               -0.066306   \n",
       "...                       ...                     ...   \n",
       "20757               -0.016832               -0.066306   \n",
       "32103               -0.016832               -0.066306   \n",
       "30403               -0.016832               -0.066306   \n",
       "21243               -0.016832               -0.066306   \n",
       "2732                -0.016832               -0.066306   \n",
       "\n",
       "       room_type_Entire home/apt  room_type_Private room  \\\n",
       "13968                  -1.047933                1.094830   \n",
       "27216                  -1.047933                1.094830   \n",
       "4467                    0.954260               -0.913384   \n",
       "23786                   0.954260               -0.913384   \n",
       "33348                   0.954260               -0.913384   \n",
       "...                          ...                     ...   \n",
       "20757                   0.954260               -0.913384   \n",
       "32103                  -1.047933                1.094830   \n",
       "30403                   0.954260               -0.913384   \n",
       "21243                   0.954260               -0.913384   \n",
       "2732                    0.954260               -0.913384   \n",
       "\n",
       "       room_type_Shared room  \n",
       "13968              -0.149226  \n",
       "27216              -0.149226  \n",
       "4467               -0.149226  \n",
       "23786              -0.149226  \n",
       "33348              -0.149226  \n",
       "...                      ...  \n",
       "20757              -0.149226  \n",
       "32103              -0.149226  \n",
       "30403              -0.149226  \n",
       "21243              -0.149226  \n",
       "2732               -0.149226  \n",
       "\n",
       "[27185 rows x 231 columns]"
      ]
     },
     "metadata": {},
     "output_type": "display_data"
    }
   ],
   "source": [
    "# run\n",
    "\n",
    "Y = df[\"price\"]\n",
    "X = df.drop(\"price\", axis=1)\n",
    "standardizeData(X)\n",
    "X_train, X_test, y_train, y_test = train_test_split(X, Y, test_size=0.3, random_state=0)\n",
    "display(X_train)"
   ]
  },
  {
   "cell_type": "code",
   "execution_count": 95,
   "id": "7851a7dd",
   "metadata": {},
   "outputs": [],
   "source": [
    "# run\n",
    "\n",
    "X_train,y_train,X_test,y_test = X_train.to_numpy(),y_train.to_numpy(),X_test.to_numpy(),y_test.to_numpy()"
   ]
  },
  {
   "cell_type": "code",
   "execution_count": null,
   "id": "2448e47e",
   "metadata": {},
   "outputs": [],
   "source": [
    "# Comment out if using all data\n",
    "# 32 variable data: \n",
    "X_df = df[\n",
    "    [\n",
    "        \"minimum_nights\",\n",
    "        \"number_of_reviews\",\n",
    "        \"reviews_per_month\",\n",
    "        \"calculated_host_listings_count\",\n",
    "        \"availability_365\",\n",
    "        \"neighbourhood_group_Bronx\",\n",
    "        \"neighbourhood_group_Brooklyn\",\n",
    "        \"neighbourhood_group_Manhattan\",\n",
    "        \"neighbourhood_group_Queens\",\n",
    "        \"neighbourhood_group_Staten Island\",\n",
    "        \"neighbourhood_Midtown\",\n",
    "        \"neighbourhood_Lower East Side\",\n",
    "        \"neighbourhood_Harlem\",\n",
    "        \"neighbourhood_Upper East Side\",\n",
    "        \"neighbourhood_Upper West Side\",\n",
    "        \"neighbourhood_Washington Heights\",\n",
    "        \"neighbourhood_East Harlem\",\n",
    "        \"neighbourhood_Chinatown\",\n",
    "        \"neighbourhood_East Village\",\n",
    "        \"neighbourhood_Financial District\",\n",
    "        \"neighbourhood_Morningside Heights\",\n",
    "        \"neighbourhood_Inwood\",\n",
    "        \"neighbourhood_Hell's Kitchen\",\n",
    "        \"neighbourhood_Battery Park City\",\n",
    "        \"neighbourhood_Chelsea\",\n",
    "        \"neighbourhood_Two Bridges\",\n",
    "        \"neighbourhood_Gramercy\",\n",
    "        \"neighbourhood_NoHo\",\n",
    "        \"neighbourhood_Greenwich Village\",\n",
    "        \"neighbourhood_SoHo\",\n",
    "        \"room_type_Entire home/apt\",\n",
    "        \"room_type_Private room\"\n",
    "    ]\n",
    "]\n",
    "X = X_df.to_numpy()\n",
    "y_df = df[[\"price\"]]\n",
    "y = y_df.to_numpy()"
   ]
  },
  {
   "cell_type": "code",
   "execution_count": 80,
   "id": "ff0a25da",
   "metadata": {},
   "outputs": [],
   "source": [
    "# 80:20 split for 32-var case\n",
    "\n",
    "#from sklearn.model_selection import train_test_split\n",
    "#X_train, X_test, y_train, y_test = train_test_split(X, y, test_size=0.2, random_state=200)"
   ]
  },
  {
   "cell_type": "markdown",
   "id": "54e1131f",
   "metadata": {},
   "source": [
    "### Fitting Lasso: (No intercept)"
   ]
  },
  {
   "cell_type": "code",
   "execution_count": 99,
   "id": "ade2d447",
   "metadata": {},
   "outputs": [
    {
     "ename": "KeyboardInterrupt",
     "evalue": "",
     "output_type": "error",
     "traceback": [
      "\u001b[1;31m---------------------------------------------------------------------------\u001b[0m",
      "\u001b[1;31mKeyboardInterrupt\u001b[0m                         Traceback (most recent call last)",
      "\u001b[1;32m<ipython-input-99-3d26414e9116>\u001b[0m in \u001b[0;36m<module>\u001b[1;34m\u001b[0m\n\u001b[0;32m      7\u001b[0m \u001b[1;31m#Run lasso regression for each lambda\u001b[0m\u001b[1;33m\u001b[0m\u001b[1;33m\u001b[0m\u001b[1;33m\u001b[0m\u001b[0m\n\u001b[0;32m      8\u001b[0m \u001b[1;32mfor\u001b[0m \u001b[0ml\u001b[0m \u001b[1;32min\u001b[0m \u001b[0mlamda\u001b[0m\u001b[1;33m:\u001b[0m\u001b[1;33m\u001b[0m\u001b[1;33m\u001b[0m\u001b[0m\n\u001b[1;32m----> 9\u001b[1;33m     \u001b[0mtheta\u001b[0m \u001b[1;33m=\u001b[0m \u001b[0mcoordinate_descent_lasso\u001b[0m\u001b[1;33m(\u001b[0m\u001b[0minitial_theta\u001b[0m\u001b[1;33m,\u001b[0m\u001b[0mX_train\u001b[0m\u001b[1;33m,\u001b[0m\u001b[0my_train\u001b[0m\u001b[1;33m,\u001b[0m\u001b[0mlamda\u001b[0m \u001b[1;33m=\u001b[0m \u001b[0ml\u001b[0m\u001b[1;33m,\u001b[0m \u001b[0mnum_iters\u001b[0m\u001b[1;33m=\u001b[0m\u001b[1;36m100\u001b[0m\u001b[1;33m)\u001b[0m\u001b[1;33m\u001b[0m\u001b[1;33m\u001b[0m\u001b[0m\n\u001b[0m\u001b[0;32m     10\u001b[0m     \u001b[0mtheta_list\u001b[0m\u001b[1;33m.\u001b[0m\u001b[0mappend\u001b[0m\u001b[1;33m(\u001b[0m\u001b[0mtheta\u001b[0m\u001b[1;33m)\u001b[0m\u001b[1;33m\u001b[0m\u001b[1;33m\u001b[0m\u001b[0m\n\u001b[0;32m     11\u001b[0m \u001b[1;33m\u001b[0m\u001b[0m\n",
      "\u001b[1;32m<ipython-input-76-8e4b29e05a22>\u001b[0m in \u001b[0;36mcoordinate_descent_lasso\u001b[1;34m(theta, X, y, lamda, num_iters, intercept)\u001b[0m\n\u001b[0;32m     16\u001b[0m             \u001b[0mX_j\u001b[0m \u001b[1;33m=\u001b[0m \u001b[0mX\u001b[0m\u001b[1;33m[\u001b[0m\u001b[1;33m:\u001b[0m\u001b[1;33m,\u001b[0m\u001b[0mj\u001b[0m\u001b[1;33m]\u001b[0m\u001b[1;33m.\u001b[0m\u001b[0mreshape\u001b[0m\u001b[1;33m(\u001b[0m\u001b[1;33m-\u001b[0m\u001b[1;36m1\u001b[0m\u001b[1;33m,\u001b[0m\u001b[1;36m1\u001b[0m\u001b[1;33m)\u001b[0m\u001b[1;33m\u001b[0m\u001b[1;33m\u001b[0m\u001b[0m\n\u001b[0;32m     17\u001b[0m             \u001b[0my_pred\u001b[0m \u001b[1;33m=\u001b[0m \u001b[0mX\u001b[0m \u001b[1;33m@\u001b[0m \u001b[0mtheta\u001b[0m\u001b[1;33m\u001b[0m\u001b[1;33m\u001b[0m\u001b[0m\n\u001b[1;32m---> 18\u001b[1;33m             \u001b[0mrho\u001b[0m \u001b[1;33m=\u001b[0m \u001b[0mX_j\u001b[0m\u001b[1;33m.\u001b[0m\u001b[0mT\u001b[0m \u001b[1;33m@\u001b[0m \u001b[1;33m(\u001b[0m\u001b[0my\u001b[0m \u001b[1;33m-\u001b[0m \u001b[0my_pred\u001b[0m  \u001b[1;33m+\u001b[0m \u001b[0mtheta\u001b[0m\u001b[1;33m[\u001b[0m\u001b[0mj\u001b[0m\u001b[1;33m]\u001b[0m\u001b[1;33m*\u001b[0m\u001b[0mX_j\u001b[0m\u001b[1;33m)\u001b[0m\u001b[1;33m\u001b[0m\u001b[1;33m\u001b[0m\u001b[0m\n\u001b[0m\u001b[0;32m     19\u001b[0m \u001b[1;33m\u001b[0m\u001b[0m\n\u001b[0;32m     20\u001b[0m             \u001b[1;31m#Checking intercept parameter\u001b[0m\u001b[1;33m\u001b[0m\u001b[1;33m\u001b[0m\u001b[1;33m\u001b[0m\u001b[0m\n",
      "\u001b[1;31mKeyboardInterrupt\u001b[0m: "
     ]
    }
   ],
   "source": [
    "# run\n",
    "\n",
    "# Initialize variables\n",
    "m,n = X_train.shape\n",
    "initial_theta = np.ones((n,1))\n",
    "theta_list = list()\n",
    "lamda = np.arange(0,10,0.01)/10 #Range of lambda values\n",
    "\n",
    "#Run lasso regression for each lambda\n",
    "for l in lamda:\n",
    "    theta = coordinate_descent_lasso(initial_theta,X_train,y_train,lamda = l, num_iters=100)\n",
    "    theta_list.append(theta)\n",
    "\n",
    "#Stack into numpy array\n",
    "theta_lasso = np.stack(theta_list).T"
   ]
  },
  {
   "cell_type": "code",
   "execution_count": null,
   "id": "850df673",
   "metadata": {},
   "outputs": [],
   "source": [
    "# run \n",
    "\n",
    "# Visual on Lasso Path for Lambdas\n",
    "n,_ = theta_lasso.shape\n",
    "plt.figure(figsize = (12,8))\n",
    "cols = list(X_df.columns)\n",
    "\n",
    "for i in range(n):\n",
    "    plt.plot(lamda, theta_lasso[i], label = cols[i])\n",
    "\n",
    "plt.xscale('log')\n",
    "plt.xlabel('Log($\\\\lambda$)')\n",
    "plt.ylabel('Coefficients')\n",
    "plt.title('Lasso Paths')\n",
    "plt.legend(bbox_to_anchor=(1.04,1), loc=\"upper left\")\n",
    "plt.axis('tight')"
   ]
  },
  {
   "cell_type": "markdown",
   "id": "601773c7",
   "metadata": {},
   "source": [
    "### Tuning Lambda\n",
    "We conduct 10-fold cross validation:\n",
    "\n",
    "1. Split training set into 10 partitions. (for each iteration: 9 partitions are used for training, 1 for testing) \n",
    "2. 10 lasso models are trained for 300 lambda values.\n",
    "3. For each lambda value, find the mean MAE of the 10 lasso models. \n",
    "3. Select lambda = k that has lowest mean MAE."
   ]
  },
  {
   "cell_type": "code",
   "execution_count": null,
   "id": "f4948242",
   "metadata": {},
   "outputs": [],
   "source": [
    "# run\n",
    "all_mse, lamda = lambda_tune(X_train,y_train)"
   ]
  },
  {
   "cell_type": "code",
   "execution_count": 62,
   "id": "34ef54b6",
   "metadata": {},
   "outputs": [
    {
     "data": {
      "text/plain": [
       "4.68559230000028"
      ]
     },
     "execution_count": 62,
     "metadata": {},
     "output_type": "execute_result"
    }
   ],
   "source": [
    "# run \n",
    "\n",
    "# Fitting Lasso on tuned lambda = 0.1241\n",
    "import timeit\n",
    "timestart = timeit.default_timer()           # start timer\n",
    "theta = coordinate_descent_lasso(initial_theta,X_train,y_train,lamda = 0.1241, num_iters=100)\n",
    "timeend = timeit.default_timer()             # end timer\n",
    "time_elapsed = (timeend - timestart) # calculate elapsed time\n",
    "\n",
    "time_elapsed"
   ]
  },
  {
   "cell_type": "code",
   "execution_count": 67,
   "id": "f7a026e5",
   "metadata": {},
   "outputs": [],
   "source": [
    "# run\n",
    "\n",
    "# Computing MSE of our fitted LASSO model\n",
    "y_pred = X_test@theta\n",
    "SSE = 0\n",
    "for i in range(7768):\n",
    "    SSE += (y_test[i][0] - y_pred[i])**2\n",
    "MSE = SSE/7768"
   ]
  },
  {
   "cell_type": "code",
   "execution_count": 71,
   "id": "c6c9528e",
   "metadata": {},
   "outputs": [
    {
     "data": {
      "text/plain": [
       "704465281047.7428"
      ]
     },
     "execution_count": 71,
     "metadata": {},
     "output_type": "execute_result"
    }
   ],
   "source": [
    "MSE"
   ]
  },
  {
   "cell_type": "code",
   "execution_count": 129,
   "id": "f0158686",
   "metadata": {},
   "outputs": [
    {
     "name": "stderr",
     "output_type": "stream",
     "text": [
      "No handles with labels found to put in legend.\n"
     ]
    },
    {
     "data": {
      "text/plain": [
       "(0.0446683592150963,\n",
       " 2238721.138568338,\n",
       " -174.70674802088823,\n",
       " 4006.7976486432162)"
      ]
     },
     "execution_count": 129,
     "metadata": {},
     "output_type": "execute_result"
    },
    {
     "data": {
      "image/png": "[encoded data removed]",
      "text/plain": [
       "<Figure size 864x576 with 1 Axes>"
      ]
     },
     "metadata": {},
     "output_type": "display_data"
    }
   ],
   "source": [
    "# run \n",
    "\n",
    "# Visual of MSE against lamda\n",
    "\n",
    "n = 300\n",
    "plt.figure(figsize = (12,8))\n",
    "\n",
    "for i in range(n):\n",
    "    for j in range(10):\n",
    "        plt.scatter(lamda[i], all_mse[i][j])\n",
    "\n",
    "plt.xscale('log')\n",
    "plt.xlabel('Log($\\\\lambda$)')\n",
    "plt.ylabel('MSE')\n",
    "plt.title('Cross Validated MAE from Lasso fit')\n",
    "plt.legend()\n",
    "plt.axis('tight')"
   ]
  },
  {
   "cell_type": "code",
   "execution_count": 130,
   "id": "204abe88",
   "metadata": {},
   "outputs": [
    {
     "data": {
      "text/plain": [
       "24244.62017082326"
      ]
     },
     "execution_count": 130,
     "metadata": {},
     "output_type": "execute_result"
    }
   ],
   "source": [
    "# run\n",
    "\n",
    "# Finding the minimum lamda value\n",
    "allmeans = list()\n",
    "for i in range(300):\n",
    "    allmeans.append(np.mean(all_mse[i]))\n",
    "\n",
    "min_index = allmeans.index(min(allmeans))\n",
    "lamda[min_index]"
   ]
  },
  {
   "cell_type": "markdown",
   "id": "7ddb070e",
   "metadata": {},
   "source": [
    "### Implementation using sklearn (for comparison)"
   ]
  },
  {
   "cell_type": "code",
   "execution_count": 100,
   "id": "bb613152",
   "metadata": {},
   "outputs": [],
   "source": [
    "from sklearn import linear_model\n",
    "\n",
    "# Fitting lasso model with lambda = 24244\n",
    "#clf = linear_model.Lasso(alpha=16, fit_intercept = False)\n",
    "#clf.fit(X_train,y_train)\n",
    "#clf.coef_"
   ]
  },
  {
   "cell_type": "code",
   "execution_count": 102,
   "id": "6677f1b6",
   "metadata": {},
   "outputs": [
    {
     "name": "stderr",
     "output_type": "stream",
     "text": [
      "C:\\Users\\kxu97\\anaconda3\\lib\\site-packages\\sklearn\\linear_model\\_coordinate_descent.py:647: ConvergenceWarning: Objective did not converge. You might want to increase the number of iterations, check the scale of the features or consider increasing regularisation. Duality gap: 1.348e+07, tolerance: 1.629e+05\n",
      "  model = cd_fast.enet_coordinate_descent(\n"
     ]
    },
    {
     "ename": "KeyboardInterrupt",
     "evalue": "",
     "output_type": "error",
     "traceback": [
      "\u001b[1;31m---------------------------------------------------------------------------\u001b[0m",
      "\u001b[1;31mKeyboardInterrupt\u001b[0m                         Traceback (most recent call last)",
      "\u001b[1;32m<ipython-input-102-fa9d0a3c9b89>\u001b[0m in \u001b[0;36m<module>\u001b[1;34m\u001b[0m\n\u001b[0;32m      7\u001b[0m \u001b[1;32mfor\u001b[0m \u001b[0ml\u001b[0m \u001b[1;32min\u001b[0m \u001b[0mlamda\u001b[0m\u001b[1;33m:\u001b[0m\u001b[1;33m\u001b[0m\u001b[1;33m\u001b[0m\u001b[0m\n\u001b[0;32m      8\u001b[0m     \u001b[0mclf\u001b[0m \u001b[1;33m=\u001b[0m \u001b[0mlinear_model\u001b[0m\u001b[1;33m.\u001b[0m\u001b[0mLasso\u001b[0m\u001b[1;33m(\u001b[0m\u001b[0malpha\u001b[0m \u001b[1;33m=\u001b[0m \u001b[0ml\u001b[0m\u001b[1;33m,\u001b[0m \u001b[0mfit_intercept\u001b[0m \u001b[1;33m=\u001b[0m \u001b[1;32mFalse\u001b[0m\u001b[1;33m)\u001b[0m\u001b[1;33m\u001b[0m\u001b[1;33m\u001b[0m\u001b[0m\n\u001b[1;32m----> 9\u001b[1;33m     \u001b[0mclf\u001b[0m\u001b[1;33m.\u001b[0m\u001b[0mfit\u001b[0m\u001b[1;33m(\u001b[0m\u001b[0mX_train\u001b[0m\u001b[1;33m,\u001b[0m\u001b[0my_train\u001b[0m\u001b[1;33m)\u001b[0m\u001b[1;33m\u001b[0m\u001b[1;33m\u001b[0m\u001b[0m\n\u001b[0m\u001b[0;32m     10\u001b[0m     \u001b[0mtheta_list_sk\u001b[0m\u001b[1;33m.\u001b[0m\u001b[0mappend\u001b[0m\u001b[1;33m(\u001b[0m\u001b[0mclf\u001b[0m\u001b[1;33m.\u001b[0m\u001b[0mcoef_\u001b[0m\u001b[1;33m)\u001b[0m\u001b[1;33m\u001b[0m\u001b[1;33m\u001b[0m\u001b[0m\n\u001b[0;32m     11\u001b[0m \u001b[1;33m\u001b[0m\u001b[0m\n",
      "\u001b[1;32m~\\anaconda3\\lib\\site-packages\\sklearn\\linear_model\\_coordinate_descent.py\u001b[0m in \u001b[0;36mfit\u001b[1;34m(self, X, y, sample_weight, check_input)\u001b[0m\n\u001b[0;32m   1037\u001b[0m             \u001b[1;32melse\u001b[0m\u001b[1;33m:\u001b[0m\u001b[1;33m\u001b[0m\u001b[1;33m\u001b[0m\u001b[0m\n\u001b[0;32m   1038\u001b[0m                 \u001b[0mthis_Xy\u001b[0m \u001b[1;33m=\u001b[0m \u001b[1;32mNone\u001b[0m\u001b[1;33m\u001b[0m\u001b[1;33m\u001b[0m\u001b[0m\n\u001b[1;32m-> 1039\u001b[1;33m             _, this_coef, this_dual_gap, this_iter = self.path(\n\u001b[0m\u001b[0;32m   1040\u001b[0m                 \u001b[0mX\u001b[0m\u001b[1;33m,\u001b[0m\u001b[1;33m\u001b[0m\u001b[1;33m\u001b[0m\u001b[0m\n\u001b[0;32m   1041\u001b[0m                 \u001b[0my\u001b[0m\u001b[1;33m[\u001b[0m\u001b[1;33m:\u001b[0m\u001b[1;33m,\u001b[0m \u001b[0mk\u001b[0m\u001b[1;33m]\u001b[0m\u001b[1;33m,\u001b[0m\u001b[1;33m\u001b[0m\u001b[1;33m\u001b[0m\u001b[0m\n",
      "\u001b[1;32m~\\anaconda3\\lib\\site-packages\\sklearn\\linear_model\\_coordinate_descent.py\u001b[0m in \u001b[0;36menet_path\u001b[1;34m(X, y, l1_ratio, eps, n_alphas, alphas, precompute, Xy, copy_X, coef_init, verbose, return_n_iter, positive, check_input, **params)\u001b[0m\n\u001b[0;32m    645\u001b[0m             )\n\u001b[0;32m    646\u001b[0m         \u001b[1;32melif\u001b[0m \u001b[0mprecompute\u001b[0m \u001b[1;32mis\u001b[0m \u001b[1;32mFalse\u001b[0m\u001b[1;33m:\u001b[0m\u001b[1;33m\u001b[0m\u001b[1;33m\u001b[0m\u001b[0m\n\u001b[1;32m--> 647\u001b[1;33m             model = cd_fast.enet_coordinate_descent(\n\u001b[0m\u001b[0;32m    648\u001b[0m                 \u001b[0mcoef_\u001b[0m\u001b[1;33m,\u001b[0m \u001b[0ml1_reg\u001b[0m\u001b[1;33m,\u001b[0m \u001b[0ml2_reg\u001b[0m\u001b[1;33m,\u001b[0m \u001b[0mX\u001b[0m\u001b[1;33m,\u001b[0m \u001b[0my\u001b[0m\u001b[1;33m,\u001b[0m \u001b[0mmax_iter\u001b[0m\u001b[1;33m,\u001b[0m \u001b[0mtol\u001b[0m\u001b[1;33m,\u001b[0m \u001b[0mrng\u001b[0m\u001b[1;33m,\u001b[0m \u001b[0mrandom\u001b[0m\u001b[1;33m,\u001b[0m \u001b[0mpositive\u001b[0m\u001b[1;33m\u001b[0m\u001b[1;33m\u001b[0m\u001b[0m\n\u001b[0;32m    649\u001b[0m             )\n",
      "\u001b[1;31mKeyboardInterrupt\u001b[0m: "
     ]
    }
   ],
   "source": [
    "# Initialize variables\n",
    "m,n = X_train.shape\n",
    "theta_list_sk = list()\n",
    "lamda = np.arange(0.01,5,0.01) #Range of lambda values\n",
    "\n",
    "#Run lasso regression for each lambda\n",
    "for l in lamda:\n",
    "    clf = linear_model.Lasso(alpha = l, fit_intercept = False)\n",
    "    clf.fit(X_train,y_train)\n",
    "    theta_list_sk.append(clf.coef_)\n",
    "\n",
    "#Stack into numpy array\n",
    "theta_lasso_sk = np.stack(theta_list_sk).T"
   ]
  },
  {
   "cell_type": "code",
   "execution_count": 24,
   "id": "520d4abf",
   "metadata": {},
   "outputs": [
    {
     "data": {
      "text/plain": [
       "(0.06309573444801933,\n",
       " 1584.893192461114,\n",
       " -96.31796544456259,\n",
       " 148.63547322279535)"
      ]
     },
     "execution_count": 24,
     "metadata": {},
     "output_type": "execute_result"
    },
    {
     "data": {
      "image/png": "[encoded data removed]",
      "text/plain": [
       "<Figure size 864x576 with 1 Axes>"
      ]
     },
     "metadata": {},
     "output_type": "display_data"
    }
   ],
   "source": [
    "# SK_Lasso Path\n",
    "\n",
    "#Plot results\n",
    "n,_ = theta_lasso_sk.shape\n",
    "plt.figure(figsize = (12,8))\n",
    "\n",
    "for i in range(n):\n",
    "    plt.plot(lamda, theta_lasso_sk[i], label = cols[i])\n",
    "\n",
    "plt.xscale('log')\n",
    "plt.xlabel('Log($\\\\lambda$)')\n",
    "plt.ylabel('Coefficients')\n",
    "plt.title('Lasso Paths')\n",
    "plt.legend(bbox_to_anchor=(1.04,1), loc=\"upper left\")\n",
    "plt.axis('tight')"
   ]
  },
  {
   "cell_type": "code",
   "execution_count": 70,
   "id": "1af13bff",
   "metadata": {},
   "outputs": [
    {
     "name": "stderr",
     "output_type": "stream",
     "text": [
      "<ipython-input-70-e00537395b31>:2: DataConversionWarning: A column-vector y was passed when a 1d array was expected. Please change the shape of y to (n_samples, ), for example using ravel().\n",
      "  y_train = column_or_1d(y_train, warn=True)\n"
     ]
    }
   ],
   "source": [
    "from sklearn.utils import column_or_1d\n",
    "y_train = column_or_1d(y_train, warn=True)"
   ]
  },
  {
   "cell_type": "code",
   "execution_count": 71,
   "id": "ba129dd2",
   "metadata": {},
   "outputs": [
    {
     "data": {
      "text/plain": [
       "(31069,)"
      ]
     },
     "execution_count": 71,
     "metadata": {},
     "output_type": "execute_result"
    }
   ],
   "source": [
    "np.shape(y_train)"
   ]
  },
  {
   "cell_type": "code",
   "execution_count": 73,
   "id": "ce743ffc",
   "metadata": {},
   "outputs": [
    {
     "name": "stdout",
     "output_type": "stream",
     "text": [
      "alpha: 0.100000\n"
     ]
    }
   ],
   "source": [
    "from sklearn.linear_model import LassoCV\n",
    "from sklearn.model_selection import RepeatedKFold\n",
    "# define model evaluation method\n",
    "cv = RepeatedKFold(n_splits=4, n_repeats=3, random_state=1)\n",
    "# define model\n",
    "model = LassoCV(alphas=np.logspace(0,4,300)/10, cv=cv, n_jobs=-1)\n",
    "# fit model\n",
    "model.fit(X_train, y_train)\n",
    "# summarize chosen configuration\n",
    "print('alpha: %f' % model.alpha_)"
   ]
  },
  {
   "cell_type": "code",
   "execution_count": 43,
   "id": "f6f82ca3",
   "metadata": {},
   "outputs": [],
   "source": [
    "def lambda_tune_SK(X_train,y_train,k):\n",
    "    \n",
    "    all_mae = list() # 300 total entries (lambda), each entry has k entries (k-fold)\n",
    "    all_mse = list() # 300 total entries (lambda), each entry has k entries (k-fold)\n",
    "    lamda = np.logspace(0,7,300)/10 #Range of lambda values\n",
    "    \n",
    "    kf = KFold(n_splits = k)\n",
    "\n",
    "    for l in lamda:                                             # Iterate through all lambda (200)\n",
    "        mae_vals = list()                                       # list of MAE values for each lambda. Resets for each lambda\n",
    "        mse_vals = list()\n",
    "        \n",
    "        for train_index, test_index in kf.split(X_train):       # Iterate through each of 10 folds for each lamda \n",
    "            temp_X_train = X_train[train_index]\n",
    "            temp_y_train = y_train[train_index]\n",
    "            temp_X_test = X_train[test_index]\n",
    "            temp_y_test = y_train[test_index]\n",
    "            \n",
    "            MAE = 0\n",
    "            MSE = 0\n",
    "            \n",
    "            clf = linear_model.Lasso(alpha= l , fit_intercept = False)\n",
    "            clf.fit(temp_X_train,temp_y_train)\n",
    "            \n",
    "            y_pred = temp_X_test @ clf.coef_                     # Predicted response values based on beta coefficients                \n",
    "            for i in range(len(test_index)):\n",
    "                MAE += abs(temp_y_test[i][0] - y_pred[i])\n",
    "                MSE += (temp_y_test[i][0] - y_pred[i])**2\n",
    "            MAE = MAE/len(test_index)                           # MAE of each lasso model (10) for each lambda (300)\n",
    "            MSE = MSE/len(test_index)                                         # MSE of each lasso model (10) for each lambda (300) \n",
    "            mae_vals.append(MAE)\n",
    "            mse_vals.append(MSE)\n",
    "        all_mae.append(mae_vals)                                # Appending 10 MAE values from 10 fitted lasso models\n",
    "        all_mse.append(mse_vals)\n",
    "    return all_mae, all_mse,lamda"
   ]
  },
  {
   "cell_type": "code",
   "execution_count": 48,
   "id": "fb6b2f31",
   "metadata": {},
   "outputs": [
    {
     "data": {
      "text/plain": [
       "(31069, 32)"
      ]
     },
     "execution_count": 48,
     "metadata": {},
     "output_type": "execute_result"
    }
   ],
   "source": [
    "np.shape(X_train)"
   ]
  },
  {
   "cell_type": "code",
   "execution_count": 50,
   "id": "240c655e",
   "metadata": {},
   "outputs": [
    {
     "data": {
      "text/plain": [
       "0.13818733056536323"
      ]
     },
     "execution_count": 50,
     "metadata": {},
     "output_type": "execute_result"
    }
   ],
   "source": [
    "# 3-fold cross validation\n",
    "\n",
    "all_mae_sk, all_mse_sk, lamda = lambda_tune_SK(X_train,y_train,3)\n",
    "allmeans = list()\n",
    "for i in range(300):\n",
    "    allmeans.append(np.mean(all_mae_sk[i]))\n",
    "\n",
    "min_index = allmeans.index(min(allmeans))\n",
    "\n",
    "lamda[min_index] # 0.13818733056536323"
   ]
  },
  {
   "cell_type": "code",
   "execution_count": 51,
   "id": "883c1031",
   "metadata": {},
   "outputs": [
    {
     "data": {
      "text/plain": [
       "0.1240639159058832"
      ]
     },
     "execution_count": 51,
     "metadata": {},
     "output_type": "execute_result"
    }
   ],
   "source": [
    "# 4-fold cross validation\n",
    "\n",
    "all_mae_sk, all_mse_sk, lamda = lambda_tune_SK(X_train,y_train,4)\n",
    "allmeans = list()\n",
    "for i in range(300):\n",
    "    allmeans.append(np.mean(all_mae_sk[i]))\n",
    "\n",
    "min_index = allmeans.index(min(allmeans))\n",
    "lamda[min_index] # 0.1240639159058832"
   ]
  },
  {
   "cell_type": "code",
   "execution_count": null,
   "id": "be98e24b",
   "metadata": {},
   "outputs": [],
   "source": [
    "# 5-fold cross validation\n",
    "\n",
    "all_mae_sk, all_mse_sk, lamda = lambda_tune_SK(X_train,y_train,5)\n",
    "allmeans = list()\n",
    "for i in range(300):\n",
    "    allmeans.append(np.mean(all_mae_sk[i]))\n",
    "\n",
    "min_index = allmeans.index(min(allmeans))\n",
    "lamda[min_index] # "
   ]
  },
  {
   "cell_type": "code",
   "execution_count": null,
   "id": "531f61c8",
   "metadata": {},
   "outputs": [],
   "source": [
    "# 6-fold cross validation\n",
    "\n",
    "all_mae_sk, all_mse_sk, lamda = lambda_tune_SK(X_train,y_train,6)\n",
    "allmeans = list()\n",
    "for i in range(300):\n",
    "    allmeans.append(np.mean(all_mae_sk[i]))\n",
    "\n",
    "min_index = allmeans.index(min(allmeans))\n",
    "lamda[min_index] # "
   ]
  },
  {
   "cell_type": "code",
   "execution_count": 290,
   "id": "0187c8f3",
   "metadata": {},
   "outputs": [
    {
     "name": "stderr",
     "output_type": "stream",
     "text": [
      "No handles with labels found to put in legend.\n"
     ]
    },
    {
     "data": {
      "text/plain": [
       "(0.0687528918396024, 261.1497606350303, 2255.3286925025554, 51158.17394579791)"
      ]
     },
     "execution_count": 290,
     "metadata": {},
     "output_type": "execute_result"
    },
    {
     "data": {
      "image/png": "[encoded data removed]",
      "text/plain": [
       "<Figure size 864x576 with 1 Axes>"
      ]
     },
     "metadata": {},
     "output_type": "display_data"
    }
   ],
   "source": [
    "# Plotting MSE against lamda (sk-lasso model)\n",
    "\n",
    "n = 300\n",
    "plt.figure(figsize = (12,8))\n",
    "\n",
    "for i in range(140):\n",
    "    for j in range(10):\n",
    "        plt.scatter(lamda[i], all_mse_sk[i][j])\n",
    "\n",
    "plt.xscale('log')\n",
    "plt.xlabel('Log($\\\\lambda$)')\n",
    "plt.ylabel('MSE')\n",
    "plt.title('Cross Validated MSE from Lasso fit')\n",
    "plt.legend()\n",
    "plt.axis('tight')"
   ]
  },
  {
   "cell_type": "code",
   "execution_count": 265,
   "id": "91ff42ec",
   "metadata": {},
   "outputs": [
    {
     "data": {
      "text/plain": [
       "0.1"
      ]
     },
     "execution_count": 265,
     "metadata": {},
     "output_type": "execute_result"
    }
   ],
   "source": [
    "# Finding the minimum lamda value\n",
    "allmeans = list()\n",
    "for i in range(300):\n",
    "    allmeans.append(np.mean(all_mse_sk[i]))\n",
    "\n",
    "min_index = allmeans.index(min(allmeans))\n",
    "lamda[min_index]"
   ]
  },
  {
   "cell_type": "code",
   "execution_count": 146,
   "id": "01a981a3",
   "metadata": {},
   "outputs": [
    {
     "data": {
      "text/plain": [
       "array([  0.        ,   0.        ,   0.        ,   0.        ,\n",
       "         0.        ,   0.        ,   0.        ,   0.        ,\n",
       "         0.        ,   0.        ,   0.        ,   0.        ,\n",
       "         0.        ,   0.        ,   0.        ,   0.        ,\n",
       "         0.        ,   0.        ,   0.        ,   0.        ,\n",
       "         0.        ,   0.        ,   0.        ,   0.        ,\n",
       "         0.        ,   0.        ,   0.        ,   0.        ,\n",
       "         0.        ,   0.        , 909.26194755,   0.        ])"
      ]
     },
     "execution_count": 146,
     "metadata": {},
     "output_type": "execute_result"
    }
   ],
   "source": [
    "# [FROM SCRATCH] Tuned hyperparameter model:\n",
    "\n",
    "# Initialize variables\n",
    "m,n = X_train.shape\n",
    "initial_theta = np.ones((n,1))\n",
    "\n",
    "#Run lasso regression for tuned lambda\n",
    "theta = coordinate_descent_lasso(initial_theta,X_train,y_train,lamda = 24244, num_iters=300)\n",
    "theta"
   ]
  },
  {
   "cell_type": "markdown",
   "id": "3d7a7b52",
   "metadata": {},
   "source": [
    "## Generating final model \n",
    "- Recap: \n",
    "    - Hyperparameter tuning: \n",
    "        - Coordinate_descent: lambda = 24244 (minimum MSE & minimum MAE) \n",
    "        - Sk_lasso: lambda = 16.75252472408214 (MAE), lambda = 0.1 (MSE)\n",
    "    - Lasso model without intercept is chosen because of strange lasso path that has increasing beta value.\n",
    "    \n",
    " - SK_Lasso Model: 5 variables: \n",
    "     - availability_365, 'neighbourhood_group_Brooklyn', 'neighbourhood_group_Manhattan', 'room_type_Entire home/apt', 'room_type_Private room'.\n",
    "     - $$y = 17.21323117 X_{availability365} + 2.6954145 X_{neighbourhoodgroup(Brooklyn)} + 27.00013305 X_{neighbourhoodgroup(Manhattan)} + 68.55946047 X_{roomtype(home/apt)} + 14.12280336 X_{roomtype(Private room)} + \\epsilon$$ with $\\epsilon$: noise term, and $\\lambda = 16.75252472408214$ tuned from minimium MAE\n",
    " - Coordinate_descent Model: 1 variable: \n",
    "     - $y = 909.26194755 X_{room_type_Private room} + \\epsilon$ with $\\lambda = 24244$"
   ]
  },
  {
   "cell_type": "code",
   "execution_count": 72,
   "id": "c79b16c8",
   "metadata": {},
   "outputs": [
    {
     "name": "stderr",
     "output_type": "stream",
     "text": [
      "C:\\Users\\kxu97\\anaconda3\\lib\\site-packages\\sklearn\\linear_model\\_coordinate_descent.py:1571: DataConversionWarning: A column-vector y was passed when a 1d array was expected. Please change the shape of y to (n_samples, ), for example using ravel().\n",
      "  y = column_or_1d(y, warn=True)\n"
     ]
    },
    {
     "data": {
      "text/plain": [
       "21164.79181272181"
      ]
     },
     "execution_count": 72,
     "metadata": {},
     "output_type": "execute_result"
    }
   ],
   "source": [
    "from sklearn.linear_model import LassoCV\n",
    "SSE = 0\n",
    "MSE = 0\n",
    "reg = LassoCV(cv=4, random_state=0).fit(X_train, y_train)\n",
    "y_pred = reg.predict(X_test)\n",
    "for i in range(len(y_test)):\n",
    "    SSE += (y_test[i][0] - y_pred[i])**2\n",
    "MSE = SSE/len(y_test)\n",
    "MSE\n",
    "#print(reg.score(X_test, y_test))"
   ]
  },
  {
   "cell_type": "code",
   "execution_count": 73,
   "id": "281e5215",
   "metadata": {},
   "outputs": [
    {
     "data": {
      "text/plain": [
       "145.48124213355416"
      ]
     },
     "execution_count": 73,
     "metadata": {},
     "output_type": "execute_result"
    }
   ],
   "source": [
    "math.sqrt(MSE)"
   ]
  },
  {
   "cell_type": "code",
   "execution_count": 56,
   "id": "916bc507",
   "metadata": {
    "scrolled": true
   },
   "outputs": [
    {
     "data": {
      "text/plain": [
       "array([-1.82464069e-01, -1.82117495e-01, -6.95580768e-01, -1.18862286e-01,\n",
       "        1.68603554e-01, -0.00000000e+00,  3.19489793e+01,  1.03751173e+02,\n",
       "        1.19852278e+01, -0.00000000e+00,  4.02303655e+01, -9.67773714e+00,\n",
       "       -6.26200141e+01, -4.76993652e+01, -1.28789731e+01, -8.13895706e+01,\n",
       "       -4.17801134e+01, -2.65955374e+01, -2.62925742e+01, -0.00000000e+00,\n",
       "       -5.03509698e+01, -7.69919226e+01, -1.32152950e+01, -0.00000000e+00,\n",
       "        7.64971159e-02, -0.00000000e+00, -0.00000000e+00,  0.00000000e+00,\n",
       "        1.51316531e+01,  6.46189443e+01,  1.29609606e+02,  2.93556169e+01])"
      ]
     },
     "execution_count": 56,
     "metadata": {},
     "output_type": "execute_result"
    }
   ],
   "source": [
    "clf = linear_model.Lasso(alpha= 0.1240639159058832 , fit_intercept = False)\n",
    "clf.fit(X_train,y_train)\n",
    "clf.coef_\n",
    "#clf.score(X_train,y_train)"
   ]
  },
  {
   "cell_type": "raw",
   "id": "dd112518",
   "metadata": {},
   "source": [
    "$y = -0.182464069 X_{minimum-nights} -1.82117495e-01 X_{number-of-reviews} -0.695580768 X_{reviews-per-month} -0.118862286 X_{calculated-host-listings-count} + 0.168603554 X_{availability-365} + 31.9489793 X_{neighbourhood-group-Manhattan} + 103.751173 X_{neighbourhood-group-Queens} + 11.9852278 X_{neighbourhood-Midtown} + 40.2303655 X_{neighbourhood-Harlem} -9.67773714 X_{neighbourhood-Upper-East-Side} -62.6200141 X_{neighbourhood-Upper-West-Side} -47.6993652 X_{neighbourhood-Washington Heights} -12.8789731 X_{neighbourhood-East-Harlem} -81.3895706 X_{neighbourhood-Chinatown} -41.7801134 X_{neighbourhood-East-Village} -26.5955374 X_{neighbourhood-Morningside-Heights} -26.2925742 X_{neighbourhood-Inwood} -50.3509698 X_{neighbourhood_Hell's Kitchen} -76.9919226 X_{neighbourhood-Chelsea} + 15.1316531 X_{neighbourhood-Greenwich-Village} + 64.6189443 X_{neighbourhood-SoHo} + 129.609606 X_{room-type(Entire home/apt)} + 29.3556169 X_{room-type-Private room} + \\epsilon$"
   ]
  },
  {
   "cell_type": "code",
   "execution_count": 59,
   "id": "b85762df",
   "metadata": {},
   "outputs": [
    {
     "name": "stdout",
     "output_type": "stream",
     "text": [
      "minimum_nights\n",
      "number_of_reviews\n",
      "reviews_per_month\n",
      "calculated_host_listings_count\n",
      "availability_365\n",
      "neighbourhood_group_Brooklyn\n",
      "neighbourhood_group_Manhattan\n",
      "neighbourhood_group_Queens\n",
      "neighbourhood_Midtown\n",
      "neighbourhood_Lower East Side\n",
      "neighbourhood_Harlem\n",
      "neighbourhood_Upper East Side\n",
      "neighbourhood_Upper West Side\n",
      "neighbourhood_Washington Heights\n",
      "neighbourhood_East Harlem\n",
      "neighbourhood_Chinatown\n",
      "neighbourhood_East Village\n",
      "neighbourhood_Morningside Heights\n",
      "neighbourhood_Inwood\n",
      "neighbourhood_Hell's Kitchen\n",
      "neighbourhood_Chelsea\n",
      "neighbourhood_Greenwich Village\n",
      "neighbourhood_SoHo\n",
      "room_type_Entire home/apt\n",
      "room_type_Private room\n"
     ]
    }
   ],
   "source": [
    "num = [0,1,2,3,4,6,7,8,10,11,12,13,14,15,16,17,18,20,21,22,24,28,29,30,31]\n",
    "for i in num:\n",
    "    print(cols[i])"
   ]
  },
  {
   "cell_type": "code",
   "execution_count": null,
   "id": "bdeb12df",
   "metadata": {},
   "outputs": [],
   "source": []
  },
  {
   "cell_type": "code",
   "execution_count": 55,
   "id": "7cf4c4ff",
   "metadata": {},
   "outputs": [
    {
     "data": {
      "text/plain": [
       "(7768, 32)"
      ]
     },
     "execution_count": 55,
     "metadata": {},
     "output_type": "execute_result"
    }
   ],
   "source": [
    "np.shape(X_test)"
   ]
  },
  {
   "cell_type": "code",
   "execution_count": 58,
   "id": "255f2ef5",
   "metadata": {},
   "outputs": [
    {
     "data": {
      "text/plain": [
       "0.8822388737086554"
      ]
     },
     "execution_count": 58,
     "metadata": {},
     "output_type": "execute_result"
    }
   ],
   "source": [
    "r_adj = ((1 - 0.11835175406167764) * (31069 + 7768)) / (31069 + 7768 - 25 - 1)\n",
    "r_adj"
   ]
  },
  {
   "cell_type": "code",
   "execution_count": 181,
   "id": "df457101",
   "metadata": {},
   "outputs": [
    {
     "data": {
      "text/plain": [
       "'room_type_Private room'"
      ]
     },
     "execution_count": 181,
     "metadata": {},
     "output_type": "execute_result"
    }
   ],
   "source": [
    "#cols[4] # availability_365\n",
    "#cols[6] # 'neighbourhood_group_Brooklyn'\n",
    "#cols[7] # 'neighbourhood_group_Manhattan'\n",
    "#cols[30] # 'room_type_Entire home/apt'\n",
    "#cols[31] # 'room_type_Private room'"
   ]
  },
  {
   "cell_type": "code",
   "execution_count": 216,
   "id": "ef9a433b",
   "metadata": {},
   "outputs": [],
   "source": [
    "# Testing MSE of model against testing data:\n",
    "import timeit\n",
    "timestart = timeit.default_timer()           # start timer\n",
    "clf = linear_model.Lasso(alpha= 16.75252472408214 , fit_intercept = False)\n",
    "clf.fit(X_train,y_train)\n",
    "timeend = timeit.default_timer()             # end timer\n",
    "time_elapsed = (timeend - timestart) # calculate elapsed time\n",
    "\n",
    "y_pred = X_test@clf.coef_\n",
    "y_pred\n",
    "MSE = 0\n",
    "MAE = 0\n",
    "n = len(y_test)\n",
    "for i in range(n):\n",
    "    MSE += (y_test[i][0] - y_pred[i])**2\n",
    "    MAE += abs(y_test[i][0] - y_pred[i])\n",
    "MSE = MSE/n\n",
    "MAE = MAE/n"
   ]
  },
  {
   "cell_type": "code",
   "execution_count": 217,
   "id": "6304557f",
   "metadata": {},
   "outputs": [
    {
     "name": "stdout",
     "output_type": "stream",
     "text": [
      "The MSE of our Lasso model is:  8517915.669298718\n",
      "The MAE of our Lasso model is:  1933.9078181510783\n",
      "The training run-time for our Lasso model is:  0.04226710001239553\n"
     ]
    }
   ],
   "source": [
    "print(\"The MSE of our Lasso model is: \",MSE)\n",
    "print(\"The MAE of our Lasso model is: \",MAE)\n",
    "print(\"The training run-time for our Lasso model is: \",time_elapsed)"
   ]
  },
  {
   "cell_type": "code",
   "execution_count": 220,
   "id": "86011b10",
   "metadata": {},
   "outputs": [
    {
     "name": "stdout",
     "output_type": "stream",
     "text": [
      "0.008392621529298826\n"
     ]
    }
   ],
   "source": [
    "import numpy\n",
    " \n",
    "corr_matrix = numpy.corrcoef(y_test[:,0], y_pred)\n",
    "corr = corr_matrix[0,1]\n",
    "R_sq = corr**2\n",
    " \n",
    "print(R_sq)"
   ]
  },
  {
   "cell_type": "markdown",
   "id": "ad38f6ca",
   "metadata": {},
   "source": [
    "## Evaluation:\n",
    "- Sparse solution is created-- that is robust against multicollinearity. Dimension is reduced from 32 variables to 5 of the most important ones. \n",
    "- MSE = 8517915.669298718\n",
    "- MAE = 1933.9078181510783\n",
    "- Run time: 0.04226710001239553 seconds\n",
    "- R^2: 0.008392621529298826"
   ]
  },
  {
   "cell_type": "markdown",
   "id": "dffadb84",
   "metadata": {},
   "source": [
    "## Testing with Iris Dataset:"
   ]
  },
  {
   "cell_type": "code",
   "execution_count": 222,
   "id": "e8ae9e4c",
   "metadata": {},
   "outputs": [
    {
     "data": {
      "text/html": [
       "<div>\n",
       "<style scoped>\n",
       "    .dataframe tbody tr th:only-of-type {\n",
       "        vertical-align: middle;\n",
       "    }\n",
       "\n",
       "    .dataframe tbody tr th {\n",
       "        vertical-align: top;\n",
       "    }\n",
       "\n",
       "    .dataframe thead th {\n",
       "        text-align: right;\n",
       "    }\n",
       "</style>\n",
       "<table border=\"1\" class=\"dataframe\">\n",
       "  <thead>\n",
       "    <tr style=\"text-align: right;\">\n",
       "      <th></th>\n",
       "      <th>sepal_length</th>\n",
       "      <th>sepal_width</th>\n",
       "      <th>petal_length</th>\n",
       "      <th>petal_width</th>\n",
       "    </tr>\n",
       "  </thead>\n",
       "  <tbody>\n",
       "    <tr>\n",
       "      <th>0</th>\n",
       "      <td>5.1</td>\n",
       "      <td>3.5</td>\n",
       "      <td>1.4</td>\n",
       "      <td>0.2</td>\n",
       "    </tr>\n",
       "    <tr>\n",
       "      <th>1</th>\n",
       "      <td>4.9</td>\n",
       "      <td>3.0</td>\n",
       "      <td>1.4</td>\n",
       "      <td>0.2</td>\n",
       "    </tr>\n",
       "    <tr>\n",
       "      <th>2</th>\n",
       "      <td>4.7</td>\n",
       "      <td>3.2</td>\n",
       "      <td>1.3</td>\n",
       "      <td>0.2</td>\n",
       "    </tr>\n",
       "    <tr>\n",
       "      <th>3</th>\n",
       "      <td>4.6</td>\n",
       "      <td>3.1</td>\n",
       "      <td>1.5</td>\n",
       "      <td>0.2</td>\n",
       "    </tr>\n",
       "    <tr>\n",
       "      <th>4</th>\n",
       "      <td>5.0</td>\n",
       "      <td>3.6</td>\n",
       "      <td>1.4</td>\n",
       "      <td>0.2</td>\n",
       "    </tr>\n",
       "    <tr>\n",
       "      <th>...</th>\n",
       "      <td>...</td>\n",
       "      <td>...</td>\n",
       "      <td>...</td>\n",
       "      <td>...</td>\n",
       "    </tr>\n",
       "    <tr>\n",
       "      <th>145</th>\n",
       "      <td>6.7</td>\n",
       "      <td>3.0</td>\n",
       "      <td>5.2</td>\n",
       "      <td>2.3</td>\n",
       "    </tr>\n",
       "    <tr>\n",
       "      <th>146</th>\n",
       "      <td>6.3</td>\n",
       "      <td>2.5</td>\n",
       "      <td>5.0</td>\n",
       "      <td>1.9</td>\n",
       "    </tr>\n",
       "    <tr>\n",
       "      <th>147</th>\n",
       "      <td>6.5</td>\n",
       "      <td>3.0</td>\n",
       "      <td>5.2</td>\n",
       "      <td>2.0</td>\n",
       "    </tr>\n",
       "    <tr>\n",
       "      <th>148</th>\n",
       "      <td>6.2</td>\n",
       "      <td>3.4</td>\n",
       "      <td>5.4</td>\n",
       "      <td>2.3</td>\n",
       "    </tr>\n",
       "    <tr>\n",
       "      <th>149</th>\n",
       "      <td>5.9</td>\n",
       "      <td>3.0</td>\n",
       "      <td>5.1</td>\n",
       "      <td>1.8</td>\n",
       "    </tr>\n",
       "  </tbody>\n",
       "</table>\n",
       "<p>150 rows × 4 columns</p>\n",
       "</div>"
      ],
      "text/plain": [
       "     sepal_length  sepal_width  petal_length  petal_width\n",
       "0             5.1          3.5           1.4          0.2\n",
       "1             4.9          3.0           1.4          0.2\n",
       "2             4.7          3.2           1.3          0.2\n",
       "3             4.6          3.1           1.5          0.2\n",
       "4             5.0          3.6           1.4          0.2\n",
       "..            ...          ...           ...          ...\n",
       "145           6.7          3.0           5.2          2.3\n",
       "146           6.3          2.5           5.0          1.9\n",
       "147           6.5          3.0           5.2          2.0\n",
       "148           6.2          3.4           5.4          2.3\n",
       "149           5.9          3.0           5.1          1.8\n",
       "\n",
       "[150 rows x 4 columns]"
      ]
     },
     "metadata": {},
     "output_type": "display_data"
    }
   ],
   "source": [
    "iris = pd.read_csv(\n",
    "    \"https://raw.githubusercontent.com/mwaskom/seaborn-data/master/iris.csv\"\n",
    ")\n",
    "iris = iris.drop(\"species\", axis=1)\n",
    "display(iris)"
   ]
  },
  {
   "cell_type": "code",
   "execution_count": 224,
   "id": "662f7e9d",
   "metadata": {},
   "outputs": [],
   "source": [
    "def standardizeData(data):\n",
    "    # Takes pandas dataframe and standardizes it iteratively\n",
    "    for column in data:\n",
    "        if (data[column] != 0).sum() == 0:  # If the column is all zeros\n",
    "            continue  # No need to standardize all zeros (thus dividing by zero)\n",
    "        else:\n",
    "            data[column] = (data[column] - np.mean(data[column])) / np.std(data[column])\n",
    "    return data"
   ]
  },
  {
   "cell_type": "code",
   "execution_count": 226,
   "id": "239b4d77",
   "metadata": {},
   "outputs": [
    {
     "data": {
      "text/html": [
       "<div>\n",
       "<style scoped>\n",
       "    .dataframe tbody tr th:only-of-type {\n",
       "        vertical-align: middle;\n",
       "    }\n",
       "\n",
       "    .dataframe tbody tr th {\n",
       "        vertical-align: top;\n",
       "    }\n",
       "\n",
       "    .dataframe thead th {\n",
       "        text-align: right;\n",
       "    }\n",
       "</style>\n",
       "<table border=\"1\" class=\"dataframe\">\n",
       "  <thead>\n",
       "    <tr style=\"text-align: right;\">\n",
       "      <th></th>\n",
       "      <th>Predictions</th>\n",
       "      <th>Actual</th>\n",
       "    </tr>\n",
       "  </thead>\n",
       "  <tbody>\n",
       "    <tr>\n",
       "      <th>73</th>\n",
       "      <td>0.0</td>\n",
       "      <td>6.1</td>\n",
       "    </tr>\n",
       "    <tr>\n",
       "      <th>18</th>\n",
       "      <td>0.0</td>\n",
       "      <td>5.7</td>\n",
       "    </tr>\n",
       "    <tr>\n",
       "      <th>118</th>\n",
       "      <td>0.0</td>\n",
       "      <td>7.7</td>\n",
       "    </tr>\n",
       "    <tr>\n",
       "      <th>78</th>\n",
       "      <td>0.0</td>\n",
       "      <td>6.0</td>\n",
       "    </tr>\n",
       "    <tr>\n",
       "      <th>76</th>\n",
       "      <td>0.0</td>\n",
       "      <td>6.8</td>\n",
       "    </tr>\n",
       "  </tbody>\n",
       "</table>\n",
       "</div>"
      ],
      "text/plain": [
       "     Predictions  Actual\n",
       "73           0.0     6.1\n",
       "18           0.0     5.7\n",
       "118          0.0     7.7\n",
       "78           0.0     6.0\n",
       "76           0.0     6.8"
      ]
     },
     "metadata": {},
     "output_type": "display_data"
    }
   ],
   "source": [
    "Xtrain_iris, Xtest_iris, Ytrain_iris, Ytest_iris = train_test_split(\n",
    "    iris.drop(\"sepal_length\", axis=1),\n",
    "    iris[\"sepal_length\"],\n",
    "    test_size=0.2,\n",
    "    random_state=42,\n",
    ")\n",
    "\n",
    "# Standardize our X matrices\n",
    "Xtrain_iris, Xtest_iris = standardizeData(Xtrain_iris), standardizeData(Xtest_iris)\n",
    "\n",
    "# Do the model\n",
    "model = linear_model.Lasso(alpha= 16.75252472408214 , fit_intercept = False)\n",
    "model.fit(Xtrain_iris,Ytrain_iris)\n",
    "\n",
    "Y_pred_iris = model.predict(Xtest_iris)\n",
    "display(pd.DataFrame({\"Predictions\": Y_pred_iris, \"Actual\": Ytest_iris}).head())"
   ]
  }
 ],
 "metadata": {
  "kernelspec": {
   "display_name": "Python 3",
   "language": "python",
   "name": "python3"
  },
  "language_info": {
   "codemirror_mode": {
    "name": "ipython",
    "version": 3
   },
   "file_extension": ".py",
   "mimetype": "text/x-python",
   "name": "python",
   "nbconvert_exporter": "python",
   "pygments_lexer": "ipython3",
   "version": "3.8.8"
  }
 },
 "nbformat": 4,
 "nbformat_minor": 5
}

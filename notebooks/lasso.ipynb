{
 "cells": [
  {
   "cell_type": "code",
   "execution_count": 107,
   "id": "8c4e7f0e",
   "metadata": {},
   "outputs": [],
   "source": [
    "import numpy as np\n",
    "import pandas as pd\n",
    "from matplotlib import pyplot as plt\n",
    "from mpl_toolkits.mplot3d import Axes3D\n",
    "from mpl_toolkits import mplot3d\n",
    "from sklearn import model_selection\n",
    "import math\n",
    "\n",
    "%matplotlib inline\n",
    "plt.style.use('seaborn-white')"
   ]
  },
  {
   "cell_type": "markdown",
   "id": "4a3de2ac",
   "metadata": {},
   "source": [
    "# Lasso Overview\n",
    "\n",
    "Least Absolute Shrinkage and Selection Operator\n",
    "\n",
    "Objective Function:\n",
    "\n",
    "Derivation of Coordinate descent for Lasso Regression\n",
    "\n",
    "$$ \\begin{eqnarray}\n",
    "\\underset{\\beta}{\\mathrm{argmin}} RSS_{lasso} (\\beta) &=& \\frac{1}{2}RSS_{OLS} (\\beta) + \\lambda |\\beta|_{1}\\\\\n",
    "&=& \\underset{\\beta}{\\mathrm{argmin}} \\frac{1}{2} ||y - (\\beta)X)||^{2}_{2} + \\lambda |\\beta|_{1} \\\\ \n",
    "&=& f(\\beta) + g(\\beta)\n",
    "\\end{eqnarray}$$\n",
    "\n",
    "where A is the $RSS_{OLS}$ term, and B is the regularization factor for Lasso.\n",
    "\n",
    "We isolate the $\\beta_{j}$ via \n",
    "\n",
    "where,\n",
    "$f(\\beta)$ = $\\frac{1}{2} ||y - (\\beta)'X)||^{2}_{2}$ is the $RSS_{OLS}$\n",
    "$g(\\beta)$ = $\\lambda |\\beta|_{1}$ is the regularization factor.\n",
    "Note: Regularization factor means that the new loss function (error of the fit) penalizes if $\\beta$ has too large a variance/deviation. \n",
    "\n",
    "After applying some subdifferentials and subderivatives, we find that the Objective function becomes: \n",
    "\n",
    "$RSS_{Lasso}(\\beta) = RSS_{OLS}(\\beta) + \\lambda ||\\beta||_{1}$\n",
    "\n",
    "$$ \\begin{eqnarray}\n",
    "\\frac{\\partial d}{\\partial d\\beta_{j}} RSS_{Lasso} + \\partial \\beta_{j} \\lambda \\sum^{n}_{j=0} |\\beta_{j}| \\\\\n",
    "&=& - \\sum^{m}_{i=0} x_{j}^{(i)} [y^{(i)} - \\sum^{n}_{k \\ne j} \\theta_{k}x_{k}^{(i)}] + \\theta_{j} \\sum^{m}_{i=1}(x_{j}^{(i)})^{2} + \\partial_{\\beta_{j} \\lambda|\\beta_{j}| \\\\ \n",
    "&=& - \\rho_{j} +  \\beta_{j}z + \\partial_{\\beta_{j} \\lambda|\\beta_{j}| \\\\ \n",
    "\\end{eqnarray}$$\n",
    "\n",
    "\n",
    "SR3: Sparse Relaxed Regularized Regression \n",
    "    - Better numerical properties. Relaxed coordinates.\n",
    "\n",
    "Proposed strategy:\n",
    "- Use Soft-thresholding operator using coordinate descent algorithms\n",
    "- Tuning lambda:\n",
    "    - Define a range of lambda values.\n",
    "    - Bootstrap sets of size math.ceil(n/k). \n",
    "    - For each lambda value k, train lasso model on all sets.\n",
    "    - Obtain MSE of lasso models for all sets with lambda = k.\n",
    "    - Find mean MSE for each lambda=k.\n",
    "    - Find lambda value with minimum mean MSE.\n",
    "\n",
    "Notes on Lasso:\n",
    "\n",
    "Video 2: Steve Brunton from UW\n",
    "\n",
    "- For variable selection and getting interpretable regression models that don't overfit to data.\n",
    "- Feature selection: \n",
    "    - LASSO can provide a sparse solution $\\overrightarrow{\\beta}$-- hence feature selection.\n",
    "\n",
    "- Attributes:\n",
    "    - Interpretability:\n",
    "        - OLS is not interpretable because all variables are considered important. OLS selects important variables.\n",
    "        - Lower dimensional models (if similarly good at minimizing error), is easier to interpret, communicate and make decisions. (principle of parsimony).\n",
    "    - Prevents overfitting:\n",
    "        - OLS: x coefficients may overfit A to data in b. (modelling noise and reducing generalizability)\n",
    "        - When $\\lambda$ increases past $\\lambda_{lasso}$, MSE starts increasing again because we are adding in terms that are collinear and not actually correlated with response variable. \n",
    "    - Multicollinearity:\n",
    "        - When variables are collinear, OLS amplifies noise in response vector (nearly linearly dependent).\n",
    "\n",
    "- Geometric Visualization:\n",
    "    - L1 norm intersects space of all possible solutions at a sparse solution. L1 norm intersects at a dense solution. "
   ]
  },
  {
   "cell_type": "markdown",
   "id": "f04ad68a",
   "metadata": {},
   "source": [
    "### Lasso from scratch begins here: \n",
    "\n",
    "1. The setup: design matrix and response variable (price).\n",
    "2. Two functions: soft_thresholding and coordinate_descent_lasso are created. \n",
    "    - soft_thresholding: returns value of objective function based on values of rho and lamda.\n",
    "    - coordinate_descent_lasso: returns \n",
    "We use a coordinate descent algorithm to solve the lasso regression problem."
   ]
  },
  {
   "cell_type": "code",
   "execution_count": 54,
   "id": "2ef7c972",
   "metadata": {},
   "outputs": [],
   "source": [
    "#Loading in Data\n",
    "df = pd.read_csv(\"../data/listings.csv\")"
   ]
  },
  {
   "cell_type": "code",
   "execution_count": 81,
   "id": "51db7bbc",
   "metadata": {},
   "outputs": [],
   "source": [
    "X_df = df[\n",
    "    [\n",
    "        \"host_id\",\n",
    "        \"latitude\",\n",
    "        \"longitude\",\n",
    "        \"minimum_nights\",\n",
    "        \"number_of_reviews\",\n",
    "        \"reviews_per_month\",\n",
    "        \"calculated_host_listings_count\",\n",
    "        \"availability_365\"\n",
    "    ]\n",
    "]\n",
    "y_df = df[[\"price\"]]\n",
    "X = X_df.to_numpy()\n",
    "y = y_df.to_numpy()\n",
    "y = y.reshape(-1,1)"
   ]
  },
  {
   "cell_type": "code",
   "execution_count": 56,
   "id": "29efd4d5",
   "metadata": {},
   "outputs": [],
   "source": [
    "def soft_threshold(rho,lamda):\n",
    "    '''Soft threshold function used for normalized data and lasso regression'''\n",
    "    if rho < - lamda:\n",
    "        return (rho + lamda)\n",
    "    elif rho >  lamda:\n",
    "        return (rho - lamda)\n",
    "    else: \n",
    "        return 0"
   ]
  },
  {
   "cell_type": "code",
   "execution_count": 57,
   "id": "1d7a52c6",
   "metadata": {},
   "outputs": [],
   "source": [
    "def coordinate_descent_lasso(theta,X,y,lamda = .01, num_iters=100, intercept = False):\n",
    "    '''Coordinate gradient descent for lasso regression - for normalized data. \n",
    "    The intercept parameter allows to specify whether or not we regularize theta_0'''\n",
    "    \n",
    "    #Initialisation of useful values \n",
    "    m,n = X.shape\n",
    "    X = X / (np.linalg.norm(X,axis = 0)) #normalizing X in case it was not done before\n",
    "    \n",
    "    #Looping until max number of iterations\n",
    "    for i in range(num_iters): \n",
    "        \n",
    "        #Looping through each coordinate\n",
    "        for j in range(n):\n",
    "            \n",
    "            #Vectorized implementation\n",
    "            X_j = X[:,j].reshape(-1,1)\n",
    "            y_pred = X @ theta\n",
    "            rho = X_j.T @ (y - y_pred  + theta[j]*X_j)\n",
    "        \n",
    "            #Checking intercept parameter\n",
    "            if intercept == True:  \n",
    "                if j == 0: \n",
    "                    theta[j] =  rho \n",
    "                else:\n",
    "                    theta[j] =  soft_threshold(rho, lamda)  \n",
    "\n",
    "            if intercept == False:\n",
    "                theta[j] =  soft_threshold(rho, lamda)   \n",
    "            \n",
    "    return theta.flatten()"
   ]
  },
  {
   "cell_type": "code",
   "execution_count": 58,
   "id": "b91a6bf1",
   "metadata": {},
   "outputs": [
    {
     "data": {
      "text/plain": [
       "['host_id',\n",
       " 'latitude',\n",
       " 'longitude',\n",
       " 'minimum_nights',\n",
       " 'number_of_reviews',\n",
       " 'reviews_per_month',\n",
       " 'calculated_host_listings_count',\n",
       " 'availability_365']"
      ]
     },
     "execution_count": 58,
     "metadata": {},
     "output_type": "execute_result"
    }
   ],
   "source": [
    "cols = list(X_df.columns)\n",
    "cols"
   ]
  },
  {
   "cell_type": "code",
   "execution_count": 59,
   "id": "c1ce5fd7",
   "metadata": {},
   "outputs": [
    {
     "data": {
      "text/plain": [
       "(0.06309573444801933,\n",
       " 1584.893192461114,\n",
       " -29381.889752738287,\n",
       " 29176.20400648511)"
      ]
     },
     "execution_count": 59,
     "metadata": {},
     "output_type": "execute_result"
    },
    {
     "data": {
      "image/png": "[encoded data removed]",
      "text/plain": [
       "<Figure size 864x576 with 1 Axes>"
      ]
     },
     "metadata": {},
     "output_type": "display_data"
    }
   ],
   "source": [
    "# Initialize variables\n",
    "m,n = X.shape\n",
    "initial_theta = np.ones((n,1))\n",
    "theta_list = list()\n",
    "lamda = np.logspace(0,4,500)/10 #Range of lambda values\n",
    "\n",
    "#Run lasso regression for each lambda\n",
    "for l in lamda:\n",
    "    theta = coordinate_descent_lasso(initial_theta,X,y,lamda = l, num_iters=100)\n",
    "    theta_list.append(theta)\n",
    "\n",
    "#Stack into numpy array\n",
    "theta_lasso = np.stack(theta_list).T\n",
    "\n",
    "#Plot results\n",
    "n,_ = theta_lasso.shape\n",
    "plt.figure(figsize = (12,8))\n",
    "\n",
    "for i in range(n):\n",
    "    plt.plot(lamda, theta_lasso[i], label = cols[i])\n",
    "\n",
    "plt.xscale('log')\n",
    "plt.xlabel('Log($\\\\lambda$)')\n",
    "plt.ylabel('Coefficients')\n",
    "plt.title('Lasso Paths')\n",
    "plt.legend()\n",
    "plt.axis('tight')"
   ]
  },
  {
   "cell_type": "code",
   "execution_count": 120,
   "id": "1856140d",
   "metadata": {},
   "outputs": [
    {
     "data": {
      "text/plain": [
       "(8, 500)"
      ]
     },
     "execution_count": 120,
     "metadata": {},
     "output_type": "execute_result"
    }
   ],
   "source": [
    "np.shape(theta_lasso)"
   ]
  },
  {
   "cell_type": "raw",
   "id": "cd84bced",
   "metadata": {},
   "source": [
    "### Tuning Lambda\n",
    "We bootstrap sets of size 3883 (roughly 10% of data) and do the following procedure:\n",
    "\n",
    "1. Train lasso model on each set of observations for a given lamda = k. \n",
    "2. Repeat across a range of lambda = k = [0,4] # 500 lamdas \n",
    "3. Select lambda = k that has lowest mean MSE."
   ]
  },
  {
   "cell_type": "code",
   "execution_count": 67,
   "id": "889f171e",
   "metadata": {},
   "outputs": [
    {
     "name": "stdout",
     "output_type": "stream",
     "text": [
      "(38837, 8)\n",
      "(38837, 1)\n"
     ]
    }
   ],
   "source": [
    "print(np.shape(X))\n",
    "print(np.shape(y))"
   ]
  },
  {
   "cell_type": "code",
   "execution_count": 95,
   "id": "47459a73",
   "metadata": {},
   "outputs": [],
   "source": [
    "new_df = df[[\n",
    "    \"host_id\",\n",
    "    \"latitude\",\n",
    "    \"longitude\",\n",
    "    \"minimum_nights\",\n",
    "    \"number_of_reviews\",\n",
    "    \"reviews_per_month\",\n",
    "    \"calculated_host_listings_count\",\n",
    "    \"availability_365\",\n",
    "    \"price\"]]"
   ]
  },
  {
   "cell_type": "code",
   "execution_count": 106,
   "id": "b06e7f26",
   "metadata": {},
   "outputs": [
    {
     "data": {
      "text/plain": [
       "(38837, 9)"
      ]
     },
     "execution_count": 106,
     "metadata": {},
     "output_type": "execute_result"
    }
   ],
   "source": [
    "np.shape(new_df)"
   ]
  },
  {
   "cell_type": "code",
   "execution_count": 114,
   "id": "2ddfc4b8",
   "metadata": {},
   "outputs": [],
   "source": [
    "# Bootstrapping 10 sets of observations. \n",
    "\n",
    "def bootstrap(n,p,k,df,response_name,design_names):\n",
    "    '''\n",
    "    n: number of observations\n",
    "    p: dimensionality of each observation\n",
    "    k: number of random splits to generate (with resampling)\n",
    "    df: pandas dataframe containing design matrix and response variable values.\n",
    "    response_name: name (string) of response variable. \n",
    "    design_names: list of strings that are predictor variable names.\n",
    "    \n",
    "    Returns \n",
    "        sample_X (dim: k x n x (p-1)) design matrix of k resampled sets.\n",
    "        sample_y (dim: k x n x 1) numpy array of response values of k resampled sets\n",
    "    '''\n",
    "    sample_X = np.empty(shape=(k,math.ceil(n/k),p-1)) \n",
    "    sample_y = np.empty(shape=(k,math.ceil(n/k),1)) \n",
    "    for i in range(k):\n",
    "        split = df.sample(frac=1/k,random_state=200)\n",
    "        split_X = split[design_names] \n",
    "        split_y = split[[response_name]]\n",
    "        sample_X[i] = split_X.to_numpy()\n",
    "        sample_y[i] = split_y.to_numpy()\n",
    "        \n",
    "    return sample_X,sample_y"
   ]
  },
  {
   "cell_type": "code",
   "execution_count": 115,
   "id": "c720ac3a",
   "metadata": {},
   "outputs": [],
   "source": [
    "design_names = [\n",
    "    \"host_id\",\n",
    "    \"latitude\",\n",
    "    \"longitude\",\n",
    "    \"minimum_nights\",\n",
    "    \"number_of_reviews\",\n",
    "    \"reviews_per_month\",\n",
    "    \"calculated_host_listings_count\",\n",
    "    \"availability_365\"]\n",
    "response_name = \"price\"\n",
    "sample_X,sample_y = bootstrap(38837,9,10,new_df,response_name,design_names)"
   ]
  },
  {
   "cell_type": "code",
   "execution_count": null,
   "id": "d480de20",
   "metadata": {},
   "outputs": [],
   "source": [
    "# In progress\n",
    "\n",
    "# Finding MSE of the k models for each lambda value.\n",
    "\n",
    "theta_list = np.empty(shape=(10,8,1))\n",
    "MSE = np.empty(shape=(500,10,1))\n",
    "\n",
    "for i in range(10):\n",
    "    \n",
    "    m,n = sample_X[i].shape\n",
    "    initial_theta = np.ones((n,1))\n",
    "    lamda = np.logspace(0,4,500)/10 # Range of lambda values\n",
    "\n",
    "    #Run lasso regression for each lambda\n",
    "    for l in lamda:\n",
    "        theta = coordinate_descent_lasso(initial_theta,sample_X[i],sample_y[i],lamda = l, num_iters=100)\n",
    "        y_hat[i] = sample_X@theta\n",
    "        MSE += (y[i] - y_hat[i])^2\n",
    "    MSE[i] = MSE[i]/n\n",
    "        "
   ]
  }
 ],
 "metadata": {
  "kernelspec": {
   "display_name": "Python 3",
   "language": "python",
   "name": "python3"
  },
  "language_info": {
   "codemirror_mode": {
    "name": "ipython",
    "version": 3
   },
   "file_extension": ".py",
   "mimetype": "text/x-python",
   "name": "python",
   "nbconvert_exporter": "python",
   "pygments_lexer": "ipython3",
   "version": "3.8.8"
  }
 },
 "nbformat": 4,
 "nbformat_minor": 5
}

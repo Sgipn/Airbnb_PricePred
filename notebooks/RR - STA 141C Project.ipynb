{
 "cells": [
  {
   "cell_type": "markdown",
   "id": "fdb17001",
   "metadata": {},
   "source": [
    "# Ridge Regression"
   ]
  },
  {
   "cell_type": "code",
   "execution_count": 13,
   "id": "44434c83",
   "metadata": {},
   "outputs": [],
   "source": [
    "import numpy as np\n",
    "import pandas as pd\n",
    "import scipy as sp\n",
    "from sklearn.linear_model import Ridge\n",
    "\n",
    "# Load Data\n",
    "listings = pd.read_csv(r\"/Users/mikaelalim/Downloads/Airbnb_PricePred-main/data/listings.csv\")\n",
    "listings.drop(\n",
    "    [\"Unnamed: 0\",], axis=1, inplace=True,\n",
    ")\n",
    "listings.to_numpy()\n",
    "\n",
    "# Define Price\n",
    "price = listings.loc[:,\"price\"]\n",
    "\n",
    "X = listings.drop([\"price\"], axis=1) #38837x232\n",
    "y = np.transpose(price) #1x38837"
   ]
  },
  {
   "cell_type": "code",
   "execution_count": 22,
   "id": "0eb7bdf0",
   "metadata": {},
   "outputs": [
    {
     "name": "stdout",
     "output_type": "stream",
     "text": [
      "[-2.29533257e-01 -1.89011220e-01  2.53976501e-01 -1.03070488e-01\n",
      "  1.75791120e-01  4.78828708e-01  3.64120414e+01  9.68287039e+01\n",
      "  1.51442906e+01 -9.67649204e+00  5.97444910e+00 -2.58845539e+01\n",
      "  1.29477985e+01  3.15296344e+01  2.15731585e+01 -4.36080743e+01\n",
      " -5.57578381e+00 -2.04921150e+01  1.87990922e+01 -2.49997769e+00\n",
      " -1.48082703e+01  7.25647326e+01 -1.33850699e+01 -1.22777664e+01\n",
      "  3.51117070e+01 -1.70088036e+00  7.08897748e+00 -4.11488597e+01\n",
      " -5.33342465e+01  2.29017935e+01 -3.70280663e+01  9.10802855e+01\n",
      "  4.69536036e+00 -3.66461308e+01 -2.26228403e+01  5.50758362e+01\n",
      " -2.66931026e+01  1.29060558e+01 -1.47009402e+01  8.26717061e+00\n",
      " -4.37784219e+01  3.54898516e+01 -3.60410583e+01  3.14294893e+01\n",
      "  2.00542667e+01 -2.80039907e+01 -2.39157436e+00 -1.77892391e+01\n",
      " -6.38169579e+00  6.69852312e+00 -1.01931793e+01  4.46511558e+01\n",
      " -4.90598948e+00  5.29727627e+01 -1.68553037e+01 -1.15623354e+01\n",
      " -1.03231663e+01 -7.00828843e+00 -3.14418960e+00  5.85380122e-01\n",
      " -2.66243873e+01 -1.01464667e+01  1.05433076e+01  5.21859305e+01\n",
      " -2.72514085e+00 -1.16620068e+01 -2.19364971e+01  2.49012490e+01\n",
      " -3.26126716e+01 -1.38122809e-01 -1.57979045e+01 -3.91468725e+01\n",
      "  5.59190583e+00 -4.16227829e+01 -1.35611451e+01 -2.10002665e+00\n",
      " -2.31142566e+01 -3.46147048e+01 -2.52670479e+00 -1.75187841e+01\n",
      " -1.59147220e+01 -1.89120184e+01 -1.64274249e+00  7.62358959e+00\n",
      " -1.99929700e+01  7.37227518e+01 -3.25730904e+01 -6.63175657e-01\n",
      "  9.28572230e-01  1.20343540e+01  1.99221137e+01 -4.26576583e+01\n",
      " -2.14995449e+00 -1.84268780e+01  2.48100739e+01  5.02705823e+00\n",
      " -2.28787169e+01 -4.39417684e+01 -3.32907682e+01  1.73839006e+01\n",
      "  2.07269204e+01  3.86206467e+01  3.93068569e+01 -5.38674457e+01\n",
      " -5.01405322e+00  7.84793347e+00 -1.12306918e+01  6.22893208e+01\n",
      " -1.49035559e+01 -3.02085270e+01 -1.38138753e+01 -1.65997016e+01\n",
      " -8.80227563e+01 -9.83573772e+00 -9.78617040e+00  1.36256784e-01\n",
      "  2.95828173e+01 -2.18133453e+01 -1.82989711e+01 -2.47847301e+01\n",
      "  2.92253716e+00 -2.08680642e+01 -1.59301106e+01  1.12976082e+01\n",
      " -1.37412069e+01 -3.05736612e+00  2.22214577e+01 -4.59713535e+00\n",
      " -8.13954634e+00 -4.48626996e+01 -7.34876941e+01 -8.79721087e-01\n",
      " -2.64105788e+01 -3.39063977e+00 -2.56241228e+01 -2.90058401e+01\n",
      "  6.02554719e+01 -3.87088727e+01 -1.94292981e+01 -5.50717058e+01\n",
      " -6.61796945e+00  1.01385511e+01  2.67738924e-01 -3.04407066e+00\n",
      "  2.89103273e+00 -1.64783774e+01  4.43547711e+00  2.50860235e+01\n",
      "  7.64878415e+01  4.28835321e+01 -9.13059029e+00  7.42248964e-01\n",
      "  7.58734502e+01  4.68889250e+01 -7.55317002e+00 -1.57538195e+00\n",
      " -3.73206806e+00  1.26012003e+00 -3.27026393e+01  2.83412306e+01\n",
      "  7.50285399e+00 -2.06818262e+01 -1.88787717e+01  1.09182686e+01\n",
      "  9.09938905e+00  1.40984134e+01  2.17017114e+01 -1.69329966e+01\n",
      " -4.12601891e+01 -2.37131680e+01  3.08690124e+00 -1.14689419e+01\n",
      " -1.36127746e+01 -3.49861262e+01 -4.76946009e+00  1.12198301e+02\n",
      " -2.41201707e+00 -3.70831679e+01  2.95473931e+00 -1.67879172e+01\n",
      " -2.06741419e+01  4.89714728e+00  2.65560759e+02 -1.83365678e+01\n",
      " -2.02047308e+01  5.06115124e-01  8.20046175e+01 -1.96799146e+01\n",
      "  3.23645248e+01 -1.33835770e+01  1.16708593e+01 -6.23406830e+00\n",
      "  1.99226831e+01 -1.12912209e+01  1.03789318e+01  6.84918287e+00\n",
      " -3.36515456e+01 -5.04278891e+00 -1.01943449e+01  4.73799511e+01\n",
      "  1.11162539e+00  5.50207795e+01 -2.58284727e-01  1.33126987e+01\n",
      " -6.01679836e+00  2.48559347e+02 -4.16207231e+01  1.66693284e+01\n",
      "  9.00514538e+00 -3.46944398e+01 -5.02175122e+00 -1.57783172e+00\n",
      "  4.08700677e+01 -1.21276310e+01 -7.75450375e+01 -9.69915296e+00\n",
      "  4.75813218e+00  3.82893201e+01  3.52916870e+01 -5.84126373e+00\n",
      "  2.75251022e+01 -4.83044843e+00  2.39132293e+01  3.98056087e+01\n",
      " -8.34261895e+00 -2.31173896e+01 -5.59608449e+00  3.84985672e+00\n",
      "  1.19984785e+02  2.48384809e+01 -5.63589359e+00]\n",
      "The time it took to compute this is 0:00:00.219634 seconds.\n"
     ]
    }
   ],
   "source": [
    "# Find Beta Values\n",
    "\n",
    "from timeit import default_timer as timer\n",
    "from datetime import timedelta\n",
    "\n",
    "start = timer()\n",
    "\n",
    "n,m = X.shape\n",
    "I = np.identity(m)\n",
    "alpha = 1\n",
    "b1norm = np.dot(np.dot(np.linalg.inv(np.dot(X.T, X) + alpha * I), X.T), y)\n",
    "print(b1norm)\n",
    "\n",
    "end = timer()\n",
    "print(\"The time it took to compute this is\", timedelta(seconds=end-start), \"seconds.\")"
   ]
  },
  {
   "cell_type": "code",
   "execution_count": 20,
   "id": "4524a191",
   "metadata": {},
   "outputs": [
    {
     "name": "stdout",
     "output_type": "stream",
     "text": [
      "The root mean-squared error of the test data is 152.5034303188288\n",
      "The r-squared value of the test data is 0.20630124828463092\n"
     ]
    }
   ],
   "source": [
    "# Predict Accuracy\n",
    "import pandas as pd\n",
    "import numpy as np\n",
    "from sklearn import model_selection\n",
    "from sklearn.linear_model import Ridge\n",
    "from sklearn.metrics import r2_score\n",
    "from sklearn.model_selection import train_test_split\n",
    "from sklearn.metrics import mean_squared_error\n",
    "from math import sqrt\n",
    "\n",
    "# First, we split the data into an 80:20 train:test ratio\n",
    "x_train, x_test, y_train, y_test = train_test_split(\n",
    "    X, y, test_size=0.2, random_state=42\n",
    ")\n",
    "\n",
    "# Evaluation of Training Set\n",
    "rr = Ridge(alpha=0.01)\n",
    "rr.fit(x_train, y_train) \n",
    "pred_train_rr= rr.predict(x_train)\n",
    "RMSE_train = np.sqrt(mean_squared_error(y_train,pred_train_rr))\n",
    "RMSE_tr = r2_score(y_train, pred_train_rr)\n",
    "\n",
    "# Evaluation of Test Set\n",
    "pred_test_rr= rr.predict(x_test)\n",
    "RMSE_test = np.sqrt(mean_squared_error(y_test,pred_test_rr))\n",
    "r2_test = r2_score(y_test, pred_test_rr)\n",
    "\n",
    "print('The root mean-squared error of the test data is', RMSE_test)\n",
    "print('The r-squared value of the test data is', r2_test)"
   ]
  },
  {
   "cell_type": "code",
   "execution_count": null,
   "id": "1dcbf161",
   "metadata": {},
   "outputs": [],
   "source": []
  },
  {
   "cell_type": "code",
   "execution_count": null,
   "id": "72bb515c",
   "metadata": {},
   "outputs": [],
   "source": []
  }
 ],
 "metadata": {
  "kernelspec": {
   "display_name": "Python 3 (ipykernel)",
   "language": "python",
   "name": "python3"
  },
  "language_info": {
   "codemirror_mode": {
    "name": "ipython",
    "version": 3
   },
   "file_extension": ".py",
   "mimetype": "text/x-python",
   "name": "python",
   "nbconvert_exporter": "python",
   "pygments_lexer": "ipython3",
   "version": "3.9.7"
  }
 },
 "nbformat": 4,
 "nbformat_minor": 5
}
